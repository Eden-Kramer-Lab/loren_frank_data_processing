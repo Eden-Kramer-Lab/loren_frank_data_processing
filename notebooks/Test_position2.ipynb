{
 "cells": [
  {
   "cell_type": "code",
   "execution_count": 7,
   "metadata": {},
   "outputs": [],
   "source": [
    "%matplotlib inline\n",
    "%reload_ext autoreload\n",
    "%autoreload 2\n",
    "%config InlineBackend.figure_format = 'retina'\n",
    "%reload_ext snakeviz"
   ]
  },
  {
   "cell_type": "code",
   "execution_count": 2,
   "metadata": {},
   "outputs": [],
   "source": [
    "import pandas as pd\n",
    "import xarray as xr\n",
    "import numpy as np\n",
    "import matplotlib.pyplot as plt\n",
    "import matplotlib.colors as colors\n",
    "\n",
    "import logging\n",
    "logging.basicConfig(level=logging.INFO)"
   ]
  },
  {
   "cell_type": "code",
   "execution_count": 3,
   "metadata": {},
   "outputs": [],
   "source": [
    "from collections import namedtuple\n",
    "from os.path import join, abspath, dirname, pardir\n",
    "\n",
    "# LFP sampling frequency\n",
    "sampling_frequency = 1500\n",
    "\n",
    "# Data directories and definitions\n",
    "NOTEBOOK_DIR = !pwd\n",
    "ROOT_DIR = abspath(dirname(NOTEBOOK_DIR[0]))\n",
    "RAW_DATA_DIR = join(ROOT_DIR, 'Raw-Data')\n",
    "\n",
    "Animal = namedtuple('Animal', {'directory', 'short_name'})\n",
    "animals = {\n",
    "    'bon': Animal(directory=join(RAW_DATA_DIR, 'Bond'),\n",
    "                  short_name='bon'),\n",
    "}\n",
    "\n",
    "epoch_key = ('bon', 3, 2)"
   ]
  },
  {
   "cell_type": "code",
   "execution_count": 4,
   "metadata": {},
   "outputs": [],
   "source": [
    "from loren_frank_data_processing import get_position_dataframe\n",
    "from dask.distributed import Client"
   ]
  },
  {
   "cell_type": "code",
   "execution_count": 5,
   "metadata": {},
   "outputs": [
    {
     "data": {
      "text/html": [
       "<table style=\"border: 2px solid white;\">\n",
       "<tr>\n",
       "<td style=\"vertical-align: top; border: 0px solid white\">\n",
       "<h3 style=\"text-align: left;\">Client</h3>\n",
       "<ul style=\"text-align: left; list-style: none; margin: 0; padding: 0;\">\n",
       "  <li><b>Scheduler: </b>tcp://127.0.0.1:64475</li>\n",
       "  <li><b>Dashboard: </b><a href='http://127.0.0.1:8787/status' target='_blank'>http://127.0.0.1:8787/status</a>\n",
       "</ul>\n",
       "</td>\n",
       "<td style=\"vertical-align: top; border: 0px solid white\">\n",
       "<h3 style=\"text-align: left;\">Cluster</h3>\n",
       "<ul style=\"text-align: left; list-style:none; margin: 0; padding: 0;\">\n",
       "  <li><b>Workers: </b>2</li>\n",
       "  <li><b>Cores: </b>4</li>\n",
       "  <li><b>Memory: </b>17.18 GB</li>\n",
       "</ul>\n",
       "</td>\n",
       "</tr>\n",
       "</table>"
      ],
      "text/plain": [
       "<Client: 'tcp://127.0.0.1:64475' processes=2 threads=4, memory=17.18 GB>"
      ]
     },
     "execution_count": 5,
     "metadata": {},
     "output_type": "execute_result"
    }
   ],
   "source": [
    "client = Client(n_workers=2)\n",
    "client"
   ]
  },
  {
   "cell_type": "code",
   "execution_count": 43,
   "metadata": {},
   "outputs": [
    {
     "name": "stderr",
     "output_type": "stream",
     "text": [
      "WARNING:loren_frank_data_processing.core:Failed to load file: /Users/edeno/Documents/GitHub/loren_frank_data_processing/Raw-Data/Bond/bonDIO03.mat\n",
      "WARNING:loren_frank_data_processing.core:No DIO file found, using distance from well to segment trials\n",
      "WARNING:loren_frank_data_processing.core:Failed to load file: /Users/edeno/Documents/GitHub/loren_frank_data_processing/Raw-Data/Bond/bonDIO03.mat\n",
      "WARNING:loren_frank_data_processing.core:No DIO file found, inferring correct inbound/outbound from task rules\n"
     ]
    },
    {
     "name": "stdout",
     "output_type": "stream",
     "text": [
      "CPU times: user 56.3 s, sys: 6.42 s, total: 1min 2s\n",
      "Wall time: 1min 36s\n"
     ]
    },
    {
     "data": {
      "text/html": [
       "<div>\n",
       "<style scoped>\n",
       "    .dataframe tbody tr th:only-of-type {\n",
       "        vertical-align: middle;\n",
       "    }\n",
       "\n",
       "    .dataframe tbody tr th {\n",
       "        vertical-align: top;\n",
       "    }\n",
       "\n",
       "    .dataframe thead th {\n",
       "        text-align: right;\n",
       "    }\n",
       "</style>\n",
       "<table border=\"1\" class=\"dataframe\">\n",
       "  <thead>\n",
       "    <tr style=\"text-align: right;\">\n",
       "      <th></th>\n",
       "      <th>x_position</th>\n",
       "      <th>y_position</th>\n",
       "      <th>head_direction</th>\n",
       "      <th>speed</th>\n",
       "      <th>linear_distance</th>\n",
       "      <th>track_segment_id</th>\n",
       "      <th>arm_name</th>\n",
       "      <th>labeled_segments</th>\n",
       "      <th>from_well</th>\n",
       "      <th>to_well</th>\n",
       "      <th>task</th>\n",
       "      <th>is_correct</th>\n",
       "      <th>turn</th>\n",
       "      <th>linear_position</th>\n",
       "      <th>linear_velocity</th>\n",
       "      <th>linear_speed</th>\n",
       "    </tr>\n",
       "    <tr>\n",
       "      <th>time</th>\n",
       "      <th></th>\n",
       "      <th></th>\n",
       "      <th></th>\n",
       "      <th></th>\n",
       "      <th></th>\n",
       "      <th></th>\n",
       "      <th></th>\n",
       "      <th></th>\n",
       "      <th></th>\n",
       "      <th></th>\n",
       "      <th></th>\n",
       "      <th></th>\n",
       "      <th></th>\n",
       "      <th></th>\n",
       "      <th></th>\n",
       "      <th></th>\n",
       "    </tr>\n",
       "  </thead>\n",
       "  <tbody>\n",
       "    <tr>\n",
       "      <th>01:02:09.025500</th>\n",
       "      <td>215.55</td>\n",
       "      <td>128.70</td>\n",
       "      <td>1.929567</td>\n",
       "      <td>7.920192</td>\n",
       "      <td>20.236095</td>\n",
       "      <td>0.0</td>\n",
       "      <td>Center Arm</td>\n",
       "      <td>1</td>\n",
       "      <td>NaN</td>\n",
       "      <td>NaN</td>\n",
       "      <td>NaN</td>\n",
       "      <td>NaN</td>\n",
       "      <td>NaN</td>\n",
       "      <td>20.236095</td>\n",
       "      <td>0.054171</td>\n",
       "      <td>0.054171</td>\n",
       "    </tr>\n",
       "    <tr>\n",
       "      <th>01:02:09.058900</th>\n",
       "      <td>215.10</td>\n",
       "      <td>127.80</td>\n",
       "      <td>1.815775</td>\n",
       "      <td>7.920192</td>\n",
       "      <td>21.138879</td>\n",
       "      <td>0.0</td>\n",
       "      <td>Center Arm</td>\n",
       "      <td>1</td>\n",
       "      <td>NaN</td>\n",
       "      <td>NaN</td>\n",
       "      <td>NaN</td>\n",
       "      <td>NaN</td>\n",
       "      <td>NaN</td>\n",
       "      <td>21.138879</td>\n",
       "      <td>0.054171</td>\n",
       "      <td>0.054171</td>\n",
       "    </tr>\n",
       "    <tr>\n",
       "      <th>01:02:09.092300</th>\n",
       "      <td>214.65</td>\n",
       "      <td>127.35</td>\n",
       "      <td>1.975688</td>\n",
       "      <td>7.822083</td>\n",
       "      <td>21.591671</td>\n",
       "      <td>0.0</td>\n",
       "      <td>Center Arm</td>\n",
       "      <td>1</td>\n",
       "      <td>NaN</td>\n",
       "      <td>NaN</td>\n",
       "      <td>NaN</td>\n",
       "      <td>NaN</td>\n",
       "      <td>NaN</td>\n",
       "      <td>21.591671</td>\n",
       "      <td>0.107722</td>\n",
       "      <td>0.107722</td>\n",
       "    </tr>\n",
       "    <tr>\n",
       "      <th>01:02:09.125599</th>\n",
       "      <td>214.65</td>\n",
       "      <td>126.90</td>\n",
       "      <td>1.929567</td>\n",
       "      <td>7.651978</td>\n",
       "      <td>22.041662</td>\n",
       "      <td>0.0</td>\n",
       "      <td>Center Arm</td>\n",
       "      <td>1</td>\n",
       "      <td>NaN</td>\n",
       "      <td>NaN</td>\n",
       "      <td>NaN</td>\n",
       "      <td>NaN</td>\n",
       "      <td>NaN</td>\n",
       "      <td>22.041662</td>\n",
       "      <td>0.159603</td>\n",
       "      <td>0.159603</td>\n",
       "    </tr>\n",
       "    <tr>\n",
       "      <th>01:02:09.159000</th>\n",
       "      <td>214.65</td>\n",
       "      <td>126.45</td>\n",
       "      <td>1.975688</td>\n",
       "      <td>7.347363</td>\n",
       "      <td>22.491653</td>\n",
       "      <td>0.0</td>\n",
       "      <td>Center Arm</td>\n",
       "      <td>1</td>\n",
       "      <td>NaN</td>\n",
       "      <td>NaN</td>\n",
       "      <td>NaN</td>\n",
       "      <td>NaN</td>\n",
       "      <td>NaN</td>\n",
       "      <td>22.491653</td>\n",
       "      <td>0.209456</td>\n",
       "      <td>0.209456</td>\n",
       "    </tr>\n",
       "    <tr>\n",
       "      <th>...</th>\n",
       "      <td>...</td>\n",
       "      <td>...</td>\n",
       "      <td>...</td>\n",
       "      <td>...</td>\n",
       "      <td>...</td>\n",
       "      <td>...</td>\n",
       "      <td>...</td>\n",
       "      <td>...</td>\n",
       "      <td>...</td>\n",
       "      <td>...</td>\n",
       "      <td>...</td>\n",
       "      <td>...</td>\n",
       "      <td>...</td>\n",
       "      <td>...</td>\n",
       "      <td>...</td>\n",
       "      <td>...</td>\n",
       "    </tr>\n",
       "    <tr>\n",
       "      <th>01:17:39.846600</th>\n",
       "      <td>181.80</td>\n",
       "      <td>83.70</td>\n",
       "      <td>-1.325818</td>\n",
       "      <td>19.823752</td>\n",
       "      <td>120.391897</td>\n",
       "      <td>3.0</td>\n",
       "      <td>Left Arm</td>\n",
       "      <td>118</td>\n",
       "      <td>NaN</td>\n",
       "      <td>NaN</td>\n",
       "      <td>NaN</td>\n",
       "      <td>NaN</td>\n",
       "      <td>NaN</td>\n",
       "      <td>253.611127</td>\n",
       "      <td>-1.241149</td>\n",
       "      <td>1.241149</td>\n",
       "    </tr>\n",
       "    <tr>\n",
       "      <th>01:17:39.880000</th>\n",
       "      <td>180.90</td>\n",
       "      <td>82.35</td>\n",
       "      <td>-1.292497</td>\n",
       "      <td>20.613859</td>\n",
       "      <td>119.002121</td>\n",
       "      <td>3.0</td>\n",
       "      <td>Left Arm</td>\n",
       "      <td>118</td>\n",
       "      <td>NaN</td>\n",
       "      <td>NaN</td>\n",
       "      <td>NaN</td>\n",
       "      <td>NaN</td>\n",
       "      <td>NaN</td>\n",
       "      <td>252.221351</td>\n",
       "      <td>-1.020690</td>\n",
       "      <td>1.020690</td>\n",
       "    </tr>\n",
       "    <tr>\n",
       "      <th>01:17:39.913300</th>\n",
       "      <td>180.00</td>\n",
       "      <td>82.35</td>\n",
       "      <td>-1.292497</td>\n",
       "      <td>21.288728</td>\n",
       "      <td>118.960931</td>\n",
       "      <td>3.0</td>\n",
       "      <td>Left Arm</td>\n",
       "      <td>118</td>\n",
       "      <td>NaN</td>\n",
       "      <td>NaN</td>\n",
       "      <td>NaN</td>\n",
       "      <td>NaN</td>\n",
       "      <td>NaN</td>\n",
       "      <td>252.180161</td>\n",
       "      <td>-0.781931</td>\n",
       "      <td>0.781931</td>\n",
       "    </tr>\n",
       "    <tr>\n",
       "      <th>01:17:39.946700</th>\n",
       "      <td>179.10</td>\n",
       "      <td>81.45</td>\n",
       "      <td>-1.292497</td>\n",
       "      <td>21.641592</td>\n",
       "      <td>118.020684</td>\n",
       "      <td>3.0</td>\n",
       "      <td>Left Arm</td>\n",
       "      <td>118</td>\n",
       "      <td>NaN</td>\n",
       "      <td>NaN</td>\n",
       "      <td>NaN</td>\n",
       "      <td>NaN</td>\n",
       "      <td>NaN</td>\n",
       "      <td>251.239913</td>\n",
       "      <td>-0.529339</td>\n",
       "      <td>0.529339</td>\n",
       "    </tr>\n",
       "    <tr>\n",
       "      <th>01:17:39.980100</th>\n",
       "      <td>178.65</td>\n",
       "      <td>81.45</td>\n",
       "      <td>-1.165905</td>\n",
       "      <td>21.852722</td>\n",
       "      <td>118.000088</td>\n",
       "      <td>3.0</td>\n",
       "      <td>Left Arm</td>\n",
       "      <td>118</td>\n",
       "      <td>NaN</td>\n",
       "      <td>NaN</td>\n",
       "      <td>NaN</td>\n",
       "      <td>NaN</td>\n",
       "      <td>NaN</td>\n",
       "      <td>251.219318</td>\n",
       "      <td>-0.267077</td>\n",
       "      <td>0.267077</td>\n",
       "    </tr>\n",
       "  </tbody>\n",
       "</table>\n",
       "<p>27901 rows × 16 columns</p>\n",
       "</div>"
      ],
      "text/plain": [
       "                 x_position  y_position  head_direction      speed  \\\n",
       "time                                                                 \n",
       "01:02:09.025500      215.55      128.70        1.929567   7.920192   \n",
       "01:02:09.058900      215.10      127.80        1.815775   7.920192   \n",
       "01:02:09.092300      214.65      127.35        1.975688   7.822083   \n",
       "01:02:09.125599      214.65      126.90        1.929567   7.651978   \n",
       "01:02:09.159000      214.65      126.45        1.975688   7.347363   \n",
       "...                     ...         ...             ...        ...   \n",
       "01:17:39.846600      181.80       83.70       -1.325818  19.823752   \n",
       "01:17:39.880000      180.90       82.35       -1.292497  20.613859   \n",
       "01:17:39.913300      180.00       82.35       -1.292497  21.288728   \n",
       "01:17:39.946700      179.10       81.45       -1.292497  21.641592   \n",
       "01:17:39.980100      178.65       81.45       -1.165905  21.852722   \n",
       "\n",
       "                 linear_distance  track_segment_id    arm_name  \\\n",
       "time                                                             \n",
       "01:02:09.025500        20.236095               0.0  Center Arm   \n",
       "01:02:09.058900        21.138879               0.0  Center Arm   \n",
       "01:02:09.092300        21.591671               0.0  Center Arm   \n",
       "01:02:09.125599        22.041662               0.0  Center Arm   \n",
       "01:02:09.159000        22.491653               0.0  Center Arm   \n",
       "...                          ...               ...         ...   \n",
       "01:17:39.846600       120.391897               3.0    Left Arm   \n",
       "01:17:39.880000       119.002121               3.0    Left Arm   \n",
       "01:17:39.913300       118.960931               3.0    Left Arm   \n",
       "01:17:39.946700       118.020684               3.0    Left Arm   \n",
       "01:17:39.980100       118.000088               3.0    Left Arm   \n",
       "\n",
       "                 labeled_segments from_well to_well task is_correct turn  \\\n",
       "time                                                                       \n",
       "01:02:09.025500                 1       NaN     NaN  NaN        NaN  NaN   \n",
       "01:02:09.058900                 1       NaN     NaN  NaN        NaN  NaN   \n",
       "01:02:09.092300                 1       NaN     NaN  NaN        NaN  NaN   \n",
       "01:02:09.125599                 1       NaN     NaN  NaN        NaN  NaN   \n",
       "01:02:09.159000                 1       NaN     NaN  NaN        NaN  NaN   \n",
       "...                           ...       ...     ...  ...        ...  ...   \n",
       "01:17:39.846600               118       NaN     NaN  NaN        NaN  NaN   \n",
       "01:17:39.880000               118       NaN     NaN  NaN        NaN  NaN   \n",
       "01:17:39.913300               118       NaN     NaN  NaN        NaN  NaN   \n",
       "01:17:39.946700               118       NaN     NaN  NaN        NaN  NaN   \n",
       "01:17:39.980100               118       NaN     NaN  NaN        NaN  NaN   \n",
       "\n",
       "                 linear_position  linear_velocity  linear_speed  \n",
       "time                                                             \n",
       "01:02:09.025500        20.236095         0.054171      0.054171  \n",
       "01:02:09.058900        21.138879         0.054171      0.054171  \n",
       "01:02:09.092300        21.591671         0.107722      0.107722  \n",
       "01:02:09.125599        22.041662         0.159603      0.159603  \n",
       "01:02:09.159000        22.491653         0.209456      0.209456  \n",
       "...                          ...              ...           ...  \n",
       "01:17:39.846600       253.611127        -1.241149      1.241149  \n",
       "01:17:39.880000       252.221351        -1.020690      1.020690  \n",
       "01:17:39.913300       252.180161        -0.781931      0.781931  \n",
       "01:17:39.946700       251.239913        -0.529339      0.529339  \n",
       "01:17:39.980100       251.219318        -0.267077      0.267077  \n",
       "\n",
       "[27901 rows x 16 columns]"
      ]
     },
     "execution_count": 43,
     "metadata": {},
     "output_type": "execute_result"
    }
   ],
   "source": [
    "%time get_position_dataframe(epoch_key, animals)"
   ]
  },
  {
   "cell_type": "code",
   "execution_count": 6,
   "metadata": {},
   "outputs": [
    {
     "name": "stderr",
     "output_type": "stream",
     "text": [
      "WARNING:loren_frank_data_processing.core:Failed to load file: /Users/edeno/Documents/GitHub/loren_frank_data_processing/Raw-Data/Bond/bonDIO03.mat\n",
      "WARNING:loren_frank_data_processing.core:No DIO file found, using distance from well to segment trials\n",
      "WARNING:loren_frank_data_processing.core:Failed to load file: /Users/edeno/Documents/GitHub/loren_frank_data_processing/Raw-Data/Bond/bonDIO03.mat\n",
      "WARNING:loren_frank_data_processing.core:No DIO file found, inferring correct inbound/outbound from task rules\n"
     ]
    },
    {
     "name": "stdout",
     "output_type": "stream",
     "text": [
      "CPU times: user 30.5 s, sys: 1.45 s, total: 31.9 s\n",
      "Wall time: 33.4 s\n"
     ]
    },
    {
     "data": {
      "text/html": [
       "<div>\n",
       "<style scoped>\n",
       "    .dataframe tbody tr th:only-of-type {\n",
       "        vertical-align: middle;\n",
       "    }\n",
       "\n",
       "    .dataframe tbody tr th {\n",
       "        vertical-align: top;\n",
       "    }\n",
       "\n",
       "    .dataframe thead th {\n",
       "        text-align: right;\n",
       "    }\n",
       "</style>\n",
       "<table border=\"1\" class=\"dataframe\">\n",
       "  <thead>\n",
       "    <tr style=\"text-align: right;\">\n",
       "      <th></th>\n",
       "      <th>x_position</th>\n",
       "      <th>y_position</th>\n",
       "      <th>head_direction</th>\n",
       "      <th>speed</th>\n",
       "      <th>linear_distance</th>\n",
       "      <th>track_segment_id</th>\n",
       "      <th>arm_name</th>\n",
       "      <th>labeled_segments</th>\n",
       "      <th>from_well</th>\n",
       "      <th>to_well</th>\n",
       "      <th>task</th>\n",
       "      <th>is_correct</th>\n",
       "      <th>turn</th>\n",
       "      <th>linear_position</th>\n",
       "      <th>linear_velocity</th>\n",
       "      <th>linear_speed</th>\n",
       "    </tr>\n",
       "    <tr>\n",
       "      <th>time</th>\n",
       "      <th></th>\n",
       "      <th></th>\n",
       "      <th></th>\n",
       "      <th></th>\n",
       "      <th></th>\n",
       "      <th></th>\n",
       "      <th></th>\n",
       "      <th></th>\n",
       "      <th></th>\n",
       "      <th></th>\n",
       "      <th></th>\n",
       "      <th></th>\n",
       "      <th></th>\n",
       "      <th></th>\n",
       "      <th></th>\n",
       "      <th></th>\n",
       "    </tr>\n",
       "  </thead>\n",
       "  <tbody>\n",
       "    <tr>\n",
       "      <th>01:02:09.025500</th>\n",
       "      <td>215.55</td>\n",
       "      <td>128.70</td>\n",
       "      <td>1.929567</td>\n",
       "      <td>7.920192</td>\n",
       "      <td>20.236095</td>\n",
       "      <td>0.0</td>\n",
       "      <td>Center Arm</td>\n",
       "      <td>1</td>\n",
       "      <td>NaN</td>\n",
       "      <td>NaN</td>\n",
       "      <td>NaN</td>\n",
       "      <td>NaN</td>\n",
       "      <td>NaN</td>\n",
       "      <td>20.236095</td>\n",
       "      <td>0.054171</td>\n",
       "      <td>0.054171</td>\n",
       "    </tr>\n",
       "    <tr>\n",
       "      <th>01:02:09.058900</th>\n",
       "      <td>215.10</td>\n",
       "      <td>127.80</td>\n",
       "      <td>1.815775</td>\n",
       "      <td>7.920192</td>\n",
       "      <td>21.138879</td>\n",
       "      <td>0.0</td>\n",
       "      <td>Center Arm</td>\n",
       "      <td>1</td>\n",
       "      <td>NaN</td>\n",
       "      <td>NaN</td>\n",
       "      <td>NaN</td>\n",
       "      <td>NaN</td>\n",
       "      <td>NaN</td>\n",
       "      <td>21.138879</td>\n",
       "      <td>0.054171</td>\n",
       "      <td>0.054171</td>\n",
       "    </tr>\n",
       "    <tr>\n",
       "      <th>01:02:09.092300</th>\n",
       "      <td>214.65</td>\n",
       "      <td>127.35</td>\n",
       "      <td>1.975688</td>\n",
       "      <td>7.822083</td>\n",
       "      <td>21.591671</td>\n",
       "      <td>0.0</td>\n",
       "      <td>Center Arm</td>\n",
       "      <td>1</td>\n",
       "      <td>NaN</td>\n",
       "      <td>NaN</td>\n",
       "      <td>NaN</td>\n",
       "      <td>NaN</td>\n",
       "      <td>NaN</td>\n",
       "      <td>21.591671</td>\n",
       "      <td>0.107722</td>\n",
       "      <td>0.107722</td>\n",
       "    </tr>\n",
       "    <tr>\n",
       "      <th>01:02:09.125599</th>\n",
       "      <td>214.65</td>\n",
       "      <td>126.90</td>\n",
       "      <td>1.929567</td>\n",
       "      <td>7.651978</td>\n",
       "      <td>22.041662</td>\n",
       "      <td>0.0</td>\n",
       "      <td>Center Arm</td>\n",
       "      <td>1</td>\n",
       "      <td>NaN</td>\n",
       "      <td>NaN</td>\n",
       "      <td>NaN</td>\n",
       "      <td>NaN</td>\n",
       "      <td>NaN</td>\n",
       "      <td>22.041662</td>\n",
       "      <td>0.159603</td>\n",
       "      <td>0.159603</td>\n",
       "    </tr>\n",
       "    <tr>\n",
       "      <th>01:02:09.159000</th>\n",
       "      <td>214.65</td>\n",
       "      <td>126.45</td>\n",
       "      <td>1.975688</td>\n",
       "      <td>7.347363</td>\n",
       "      <td>22.491653</td>\n",
       "      <td>0.0</td>\n",
       "      <td>Center Arm</td>\n",
       "      <td>1</td>\n",
       "      <td>NaN</td>\n",
       "      <td>NaN</td>\n",
       "      <td>NaN</td>\n",
       "      <td>NaN</td>\n",
       "      <td>NaN</td>\n",
       "      <td>22.491653</td>\n",
       "      <td>0.209456</td>\n",
       "      <td>0.209456</td>\n",
       "    </tr>\n",
       "    <tr>\n",
       "      <th>...</th>\n",
       "      <td>...</td>\n",
       "      <td>...</td>\n",
       "      <td>...</td>\n",
       "      <td>...</td>\n",
       "      <td>...</td>\n",
       "      <td>...</td>\n",
       "      <td>...</td>\n",
       "      <td>...</td>\n",
       "      <td>...</td>\n",
       "      <td>...</td>\n",
       "      <td>...</td>\n",
       "      <td>...</td>\n",
       "      <td>...</td>\n",
       "      <td>...</td>\n",
       "      <td>...</td>\n",
       "      <td>...</td>\n",
       "    </tr>\n",
       "    <tr>\n",
       "      <th>01:17:39.846600</th>\n",
       "      <td>181.80</td>\n",
       "      <td>83.70</td>\n",
       "      <td>-1.325818</td>\n",
       "      <td>19.823752</td>\n",
       "      <td>120.391897</td>\n",
       "      <td>3.0</td>\n",
       "      <td>Left Arm</td>\n",
       "      <td>118</td>\n",
       "      <td>NaN</td>\n",
       "      <td>NaN</td>\n",
       "      <td>NaN</td>\n",
       "      <td>NaN</td>\n",
       "      <td>NaN</td>\n",
       "      <td>253.611127</td>\n",
       "      <td>-1.241149</td>\n",
       "      <td>1.241149</td>\n",
       "    </tr>\n",
       "    <tr>\n",
       "      <th>01:17:39.880000</th>\n",
       "      <td>180.90</td>\n",
       "      <td>82.35</td>\n",
       "      <td>-1.292497</td>\n",
       "      <td>20.613859</td>\n",
       "      <td>119.002121</td>\n",
       "      <td>3.0</td>\n",
       "      <td>Left Arm</td>\n",
       "      <td>118</td>\n",
       "      <td>NaN</td>\n",
       "      <td>NaN</td>\n",
       "      <td>NaN</td>\n",
       "      <td>NaN</td>\n",
       "      <td>NaN</td>\n",
       "      <td>252.221351</td>\n",
       "      <td>-1.020690</td>\n",
       "      <td>1.020690</td>\n",
       "    </tr>\n",
       "    <tr>\n",
       "      <th>01:17:39.913300</th>\n",
       "      <td>180.00</td>\n",
       "      <td>82.35</td>\n",
       "      <td>-1.292497</td>\n",
       "      <td>21.288728</td>\n",
       "      <td>118.960931</td>\n",
       "      <td>3.0</td>\n",
       "      <td>Left Arm</td>\n",
       "      <td>118</td>\n",
       "      <td>NaN</td>\n",
       "      <td>NaN</td>\n",
       "      <td>NaN</td>\n",
       "      <td>NaN</td>\n",
       "      <td>NaN</td>\n",
       "      <td>252.180161</td>\n",
       "      <td>-0.781931</td>\n",
       "      <td>0.781931</td>\n",
       "    </tr>\n",
       "    <tr>\n",
       "      <th>01:17:39.946700</th>\n",
       "      <td>179.10</td>\n",
       "      <td>81.45</td>\n",
       "      <td>-1.292497</td>\n",
       "      <td>21.641592</td>\n",
       "      <td>118.020684</td>\n",
       "      <td>3.0</td>\n",
       "      <td>Left Arm</td>\n",
       "      <td>118</td>\n",
       "      <td>NaN</td>\n",
       "      <td>NaN</td>\n",
       "      <td>NaN</td>\n",
       "      <td>NaN</td>\n",
       "      <td>NaN</td>\n",
       "      <td>251.239913</td>\n",
       "      <td>-0.529339</td>\n",
       "      <td>0.529339</td>\n",
       "    </tr>\n",
       "    <tr>\n",
       "      <th>01:17:39.980100</th>\n",
       "      <td>178.65</td>\n",
       "      <td>81.45</td>\n",
       "      <td>-1.165905</td>\n",
       "      <td>21.852722</td>\n",
       "      <td>118.000088</td>\n",
       "      <td>3.0</td>\n",
       "      <td>Left Arm</td>\n",
       "      <td>118</td>\n",
       "      <td>NaN</td>\n",
       "      <td>NaN</td>\n",
       "      <td>NaN</td>\n",
       "      <td>NaN</td>\n",
       "      <td>NaN</td>\n",
       "      <td>251.219318</td>\n",
       "      <td>-0.267077</td>\n",
       "      <td>0.267077</td>\n",
       "    </tr>\n",
       "  </tbody>\n",
       "</table>\n",
       "<p>27901 rows × 16 columns</p>\n",
       "</div>"
      ],
      "text/plain": [
       "                 x_position  y_position  head_direction      speed  \\\n",
       "time                                                                 \n",
       "01:02:09.025500      215.55      128.70        1.929567   7.920192   \n",
       "01:02:09.058900      215.10      127.80        1.815775   7.920192   \n",
       "01:02:09.092300      214.65      127.35        1.975688   7.822083   \n",
       "01:02:09.125599      214.65      126.90        1.929567   7.651978   \n",
       "01:02:09.159000      214.65      126.45        1.975688   7.347363   \n",
       "...                     ...         ...             ...        ...   \n",
       "01:17:39.846600      181.80       83.70       -1.325818  19.823752   \n",
       "01:17:39.880000      180.90       82.35       -1.292497  20.613859   \n",
       "01:17:39.913300      180.00       82.35       -1.292497  21.288728   \n",
       "01:17:39.946700      179.10       81.45       -1.292497  21.641592   \n",
       "01:17:39.980100      178.65       81.45       -1.165905  21.852722   \n",
       "\n",
       "                 linear_distance  track_segment_id    arm_name  \\\n",
       "time                                                             \n",
       "01:02:09.025500        20.236095               0.0  Center Arm   \n",
       "01:02:09.058900        21.138879               0.0  Center Arm   \n",
       "01:02:09.092300        21.591671               0.0  Center Arm   \n",
       "01:02:09.125599        22.041662               0.0  Center Arm   \n",
       "01:02:09.159000        22.491653               0.0  Center Arm   \n",
       "...                          ...               ...         ...   \n",
       "01:17:39.846600       120.391897               3.0    Left Arm   \n",
       "01:17:39.880000       119.002121               3.0    Left Arm   \n",
       "01:17:39.913300       118.960931               3.0    Left Arm   \n",
       "01:17:39.946700       118.020684               3.0    Left Arm   \n",
       "01:17:39.980100       118.000088               3.0    Left Arm   \n",
       "\n",
       "                 labeled_segments from_well to_well task is_correct turn  \\\n",
       "time                                                                       \n",
       "01:02:09.025500                 1       NaN     NaN  NaN        NaN  NaN   \n",
       "01:02:09.058900                 1       NaN     NaN  NaN        NaN  NaN   \n",
       "01:02:09.092300                 1       NaN     NaN  NaN        NaN  NaN   \n",
       "01:02:09.125599                 1       NaN     NaN  NaN        NaN  NaN   \n",
       "01:02:09.159000                 1       NaN     NaN  NaN        NaN  NaN   \n",
       "...                           ...       ...     ...  ...        ...  ...   \n",
       "01:17:39.846600               118       NaN     NaN  NaN        NaN  NaN   \n",
       "01:17:39.880000               118       NaN     NaN  NaN        NaN  NaN   \n",
       "01:17:39.913300               118       NaN     NaN  NaN        NaN  NaN   \n",
       "01:17:39.946700               118       NaN     NaN  NaN        NaN  NaN   \n",
       "01:17:39.980100               118       NaN     NaN  NaN        NaN  NaN   \n",
       "\n",
       "                 linear_position  linear_velocity  linear_speed  \n",
       "time                                                             \n",
       "01:02:09.025500        20.236095         0.054171      0.054171  \n",
       "01:02:09.058900        21.138879         0.054171      0.054171  \n",
       "01:02:09.092300        21.591671         0.107722      0.107722  \n",
       "01:02:09.125599        22.041662         0.159603      0.159603  \n",
       "01:02:09.159000        22.491653         0.209456      0.209456  \n",
       "...                          ...              ...           ...  \n",
       "01:17:39.846600       253.611127        -1.241149      1.241149  \n",
       "01:17:39.880000       252.221351        -1.020690      1.020690  \n",
       "01:17:39.913300       252.180161        -0.781931      0.781931  \n",
       "01:17:39.946700       251.239913        -0.529339      0.529339  \n",
       "01:17:39.980100       251.219318        -0.267077      0.267077  \n",
       "\n",
       "[27901 rows x 16 columns]"
      ]
     },
     "execution_count": 6,
     "metadata": {},
     "output_type": "execute_result"
    }
   ],
   "source": [
    "%time get_position_dataframe(epoch_key, animals)"
   ]
  },
  {
   "cell_type": "code",
   "execution_count": 81,
   "metadata": {},
   "outputs": [
    {
     "name": "stderr",
     "output_type": "stream",
     "text": [
      "WARNING:loren_frank_data_processing.core:Failed to load file: /Users/edeno/Documents/GitHub/loren_frank_data_processing/Raw-Data/Bond/bonDIO03.mat\n",
      "WARNING:loren_frank_data_processing.core:No DIO file found, using distance from well to segment trials\n",
      "WARNING:loren_frank_data_processing.core:Failed to load file: /Users/edeno/Documents/GitHub/loren_frank_data_processing/Raw-Data/Bond/bonDIO03.mat\n",
      "WARNING:loren_frank_data_processing.core:No DIO file found, inferring correct inbound/outbound from task rules\n",
      "WARNING:loren_frank_data_processing.core:Failed to load file: /Users/edeno/Documents/GitHub/loren_frank_data_processing/Raw-Data/Bond/bonDIO03.mat\n",
      "WARNING:loren_frank_data_processing.core:No DIO file found, using distance from well to segment trials\n",
      "WARNING:loren_frank_data_processing.core:Failed to load file: /Users/edeno/Documents/GitHub/loren_frank_data_processing/Raw-Data/Bond/bonDIO03.mat\n",
      "WARNING:loren_frank_data_processing.core:No DIO file found, inferring correct inbound/outbound from task rules\n",
      "WARNING:loren_frank_data_processing.core:Failed to load file: /Users/edeno/Documents/GitHub/loren_frank_data_processing/Raw-Data/Bond/bonDIO03.mat\n",
      "WARNING:loren_frank_data_processing.core:No DIO file found, using distance from well to segment trials\n",
      "WARNING:loren_frank_data_processing.core:Failed to load file: /Users/edeno/Documents/GitHub/loren_frank_data_processing/Raw-Data/Bond/bonDIO03.mat\n",
      "WARNING:loren_frank_data_processing.core:No DIO file found, inferring correct inbound/outbound from task rules\n",
      "WARNING:loren_frank_data_processing.core:Failed to load file: /Users/edeno/Documents/GitHub/loren_frank_data_processing/Raw-Data/Bond/bonDIO03.mat\n",
      "WARNING:loren_frank_data_processing.core:No DIO file found, using distance from well to segment trials\n",
      "WARNING:loren_frank_data_processing.core:Failed to load file: /Users/edeno/Documents/GitHub/loren_frank_data_processing/Raw-Data/Bond/bonDIO03.mat\n",
      "WARNING:loren_frank_data_processing.core:No DIO file found, inferring correct inbound/outbound from task rules\n",
      "WARNING:loren_frank_data_processing.core:Failed to load file: /Users/edeno/Documents/GitHub/loren_frank_data_processing/Raw-Data/Bond/bonDIO03.mat\n",
      "WARNING:loren_frank_data_processing.core:No DIO file found, using distance from well to segment trials\n",
      "WARNING:loren_frank_data_processing.core:Failed to load file: /Users/edeno/Documents/GitHub/loren_frank_data_processing/Raw-Data/Bond/bonDIO03.mat\n",
      "WARNING:loren_frank_data_processing.core:No DIO file found, inferring correct inbound/outbound from task rules\n",
      "WARNING:loren_frank_data_processing.core:Failed to load file: /Users/edeno/Documents/GitHub/loren_frank_data_processing/Raw-Data/Bond/bonDIO03.mat\n",
      "WARNING:loren_frank_data_processing.core:No DIO file found, using distance from well to segment trials\n",
      "WARNING:loren_frank_data_processing.core:Failed to load file: /Users/edeno/Documents/GitHub/loren_frank_data_processing/Raw-Data/Bond/bonDIO03.mat\n",
      "WARNING:loren_frank_data_processing.core:No DIO file found, inferring correct inbound/outbound from task rules\n",
      "WARNING:loren_frank_data_processing.core:Failed to load file: /Users/edeno/Documents/GitHub/loren_frank_data_processing/Raw-Data/Bond/bonDIO03.mat\n",
      "WARNING:loren_frank_data_processing.core:No DIO file found, using distance from well to segment trials\n",
      "WARNING:loren_frank_data_processing.core:Failed to load file: /Users/edeno/Documents/GitHub/loren_frank_data_processing/Raw-Data/Bond/bonDIO03.mat\n",
      "WARNING:loren_frank_data_processing.core:No DIO file found, inferring correct inbound/outbound from task rules\n",
      "WARNING:loren_frank_data_processing.core:Failed to load file: /Users/edeno/Documents/GitHub/loren_frank_data_processing/Raw-Data/Bond/bonDIO03.mat\n",
      "WARNING:loren_frank_data_processing.core:No DIO file found, using distance from well to segment trials\n",
      "WARNING:loren_frank_data_processing.core:Failed to load file: /Users/edeno/Documents/GitHub/loren_frank_data_processing/Raw-Data/Bond/bonDIO03.mat\n",
      "WARNING:loren_frank_data_processing.core:No DIO file found, inferring correct inbound/outbound from task rules\n"
     ]
    },
    {
     "name": "stdout",
     "output_type": "stream",
     "text": [
      "35.8 s ± 848 ms per loop (mean ± std. dev. of 7 runs, 1 loop each)\n"
     ]
    }
   ],
   "source": [
    "%timeit get_position_dataframe(epoch_key, animals)"
   ]
  },
  {
   "cell_type": "code",
   "execution_count": 41,
   "metadata": {},
   "outputs": [],
   "source": [
    "from loren_frank_data_processing import get_all_multiunit_indicators, make_tetrode_dataframe\n",
    "\n",
    "\n",
    "brain_areas = ['CA1', 'CA2', 'CA3']\n",
    "\n",
    "tetrode_info = make_tetrode_dataframe(animals).xs(\n",
    "    epoch_key, drop_level=False)\n",
    "is_brain_areas = tetrode_info.area.isin(brain_areas)\n",
    "tetrode_keys = tetrode_info.loc[\n",
    "    (tetrode_info.validripple == 1) & is_brain_areas].index"
   ]
  },
  {
   "cell_type": "code",
   "execution_count": 42,
   "metadata": {},
   "outputs": [
    {
     "name": "stdout",
     "output_type": "stream",
     "text": [
      "CPU times: user 1.65 s, sys: 1.04 s, total: 2.69 s\n",
      "Wall time: 1.96 s\n"
     ]
    },
    {
     "data": {
      "text/html": [
       "<pre>&lt;xarray.DataArray (time: 1396553, features: 8, tetrodes: 6)&gt;\n",
       "array([[[nan, nan, nan, nan, nan, nan],\n",
       "        [nan, nan, nan, nan, nan, nan],\n",
       "        [nan, nan, nan, nan, nan, nan],\n",
       "        ...,\n",
       "        [nan, nan, nan, nan, nan, nan],\n",
       "        [nan, nan, nan, nan, nan, nan],\n",
       "        [nan, nan, nan, nan, nan, nan]],\n",
       "\n",
       "       [[nan, nan, nan, nan, nan, nan],\n",
       "        [nan, nan, nan, nan, nan, nan],\n",
       "        [nan, nan, nan, nan, nan, nan],\n",
       "        ...,\n",
       "        [nan, nan, nan, nan, nan, nan],\n",
       "        [nan, nan, nan, nan, nan, nan],\n",
       "        [nan, nan, nan, nan, nan, nan]],\n",
       "\n",
       "       [[nan, nan, nan, nan, nan, nan],\n",
       "        [nan, nan, nan, nan, nan, nan],\n",
       "        [nan, nan, nan, nan, nan, nan],\n",
       "        ...,\n",
       "        [nan, nan, nan, nan, nan, nan],\n",
       "        [nan, nan, nan, nan, nan, nan],\n",
       "        [nan, nan, nan, nan, nan, nan]],\n",
       "\n",
       "       ...,\n",
       "\n",
       "       [[nan, nan, nan, nan, nan, nan],\n",
       "        [nan, nan, nan, nan, nan, nan],\n",
       "        [nan, nan, nan, nan, nan, nan],\n",
       "        ...,\n",
       "        [nan, nan, nan, nan, nan, nan],\n",
       "        [nan, nan, nan, nan, nan, nan],\n",
       "        [nan, nan, nan, nan, nan, nan]],\n",
       "\n",
       "       [[nan, nan, nan, nan, nan, nan],\n",
       "        [nan, nan, nan, nan, nan, nan],\n",
       "        [nan, nan, nan, nan, nan, nan],\n",
       "        ...,\n",
       "        [nan, nan, nan, nan, nan, nan],\n",
       "        [nan, nan, nan, nan, nan, nan],\n",
       "        [nan, nan, nan, nan, nan, nan]],\n",
       "\n",
       "       [[nan, nan, nan, nan, nan, nan],\n",
       "        [nan, nan, nan, nan, nan, nan],\n",
       "        [nan, nan, nan, nan, nan, nan],\n",
       "        ...,\n",
       "        [nan, nan, nan, nan, nan, nan],\n",
       "        [nan, nan, nan, nan, nan, nan],\n",
       "        [nan, nan, nan, nan, nan, nan]]])\n",
       "Coordinates:\n",
       "  * features  (features) &lt;U17 &#x27;channel_1_max&#x27; &#x27;channel_2_max&#x27; ... &#x27;y_position&#x27;\n",
       "  * time      (time) timedelta64[ns] 01:02:08.983700 ... 01:17:40.018366\n",
       "Dimensions without coordinates: tetrodes</pre>"
      ],
      "text/plain": [
       "<xarray.DataArray (time: 1396553, features: 8, tetrodes: 6)>\n",
       "array([[[nan, nan, nan, nan, nan, nan],\n",
       "        [nan, nan, nan, nan, nan, nan],\n",
       "        [nan, nan, nan, nan, nan, nan],\n",
       "        ...,\n",
       "        [nan, nan, nan, nan, nan, nan],\n",
       "        [nan, nan, nan, nan, nan, nan],\n",
       "        [nan, nan, nan, nan, nan, nan]],\n",
       "\n",
       "       [[nan, nan, nan, nan, nan, nan],\n",
       "        [nan, nan, nan, nan, nan, nan],\n",
       "        [nan, nan, nan, nan, nan, nan],\n",
       "        ...,\n",
       "        [nan, nan, nan, nan, nan, nan],\n",
       "        [nan, nan, nan, nan, nan, nan],\n",
       "        [nan, nan, nan, nan, nan, nan]],\n",
       "\n",
       "       [[nan, nan, nan, nan, nan, nan],\n",
       "        [nan, nan, nan, nan, nan, nan],\n",
       "        [nan, nan, nan, nan, nan, nan],\n",
       "        ...,\n",
       "        [nan, nan, nan, nan, nan, nan],\n",
       "        [nan, nan, nan, nan, nan, nan],\n",
       "        [nan, nan, nan, nan, nan, nan]],\n",
       "\n",
       "       ...,\n",
       "\n",
       "       [[nan, nan, nan, nan, nan, nan],\n",
       "        [nan, nan, nan, nan, nan, nan],\n",
       "        [nan, nan, nan, nan, nan, nan],\n",
       "        ...,\n",
       "        [nan, nan, nan, nan, nan, nan],\n",
       "        [nan, nan, nan, nan, nan, nan],\n",
       "        [nan, nan, nan, nan, nan, nan]],\n",
       "\n",
       "       [[nan, nan, nan, nan, nan, nan],\n",
       "        [nan, nan, nan, nan, nan, nan],\n",
       "        [nan, nan, nan, nan, nan, nan],\n",
       "        ...,\n",
       "        [nan, nan, nan, nan, nan, nan],\n",
       "        [nan, nan, nan, nan, nan, nan],\n",
       "        [nan, nan, nan, nan, nan, nan]],\n",
       "\n",
       "       [[nan, nan, nan, nan, nan, nan],\n",
       "        [nan, nan, nan, nan, nan, nan],\n",
       "        [nan, nan, nan, nan, nan, nan],\n",
       "        ...,\n",
       "        [nan, nan, nan, nan, nan, nan],\n",
       "        [nan, nan, nan, nan, nan, nan],\n",
       "        [nan, nan, nan, nan, nan, nan]]])\n",
       "Coordinates:\n",
       "  * features  (features) <U17 'channel_1_max' 'channel_2_max' ... 'y_position'\n",
       "  * time      (time) timedelta64[ns] 01:02:08.983700 ... 01:17:40.018366\n",
       "Dimensions without coordinates: tetrodes"
      ]
     },
     "execution_count": 42,
     "metadata": {},
     "output_type": "execute_result"
    }
   ],
   "source": [
    "%time get_all_multiunit_indicators(tetrode_keys, animals)"
   ]
  },
  {
   "cell_type": "code",
   "execution_count": 39,
   "metadata": {},
   "outputs": [],
   "source": [
    "from loren_frank_data_processing import make_neuron_dataframe, get_all_spike_indicators\n",
    "\n",
    "neuron_info = make_neuron_dataframe(animals).xs(\n",
    "    epoch_key, drop_level=False)\n",
    "neuron_info = neuron_info.loc[\n",
    "    (neuron_info.numspikes > 0) &\n",
    "    neuron_info.area.isin(brain_areas)]\n",
    "neuron_keys = neuron_info.index"
   ]
  },
  {
   "cell_type": "code",
   "execution_count": 40,
   "metadata": {},
   "outputs": [
    {
     "name": "stdout",
     "output_type": "stream",
     "text": [
      "CPU times: user 2.93 s, sys: 674 ms, total: 3.6 s\n",
      "Wall time: 2.08 s\n"
     ]
    },
    {
     "data": {
      "text/html": [
       "<div>\n",
       "<style scoped>\n",
       "    .dataframe tbody tr th:only-of-type {\n",
       "        vertical-align: middle;\n",
       "    }\n",
       "\n",
       "    .dataframe tbody tr th {\n",
       "        vertical-align: top;\n",
       "    }\n",
       "\n",
       "    .dataframe thead th {\n",
       "        text-align: right;\n",
       "    }\n",
       "</style>\n",
       "<table border=\"1\" class=\"dataframe\">\n",
       "  <thead>\n",
       "    <tr style=\"text-align: right;\">\n",
       "      <th></th>\n",
       "      <th>bon_03_02_001_001</th>\n",
       "      <th>bon_03_02_001_002</th>\n",
       "      <th>bon_03_02_001_003</th>\n",
       "      <th>bon_03_02_001_004</th>\n",
       "      <th>bon_03_02_001_005</th>\n",
       "      <th>bon_03_02_001_006</th>\n",
       "      <th>bon_03_02_003_001</th>\n",
       "      <th>bon_03_02_003_002</th>\n",
       "      <th>bon_03_02_003_003</th>\n",
       "      <th>bon_03_02_005_001</th>\n",
       "      <th>...</th>\n",
       "      <th>bon_03_02_020_002</th>\n",
       "      <th>bon_03_02_020_003</th>\n",
       "      <th>bon_03_02_022_001</th>\n",
       "      <th>bon_03_02_023_001</th>\n",
       "      <th>bon_03_02_023_002</th>\n",
       "      <th>bon_03_02_024_001</th>\n",
       "      <th>bon_03_02_024_002</th>\n",
       "      <th>bon_03_02_029_001</th>\n",
       "      <th>bon_03_02_029_002</th>\n",
       "      <th>bon_03_02_029_003</th>\n",
       "    </tr>\n",
       "    <tr>\n",
       "      <th>time</th>\n",
       "      <th></th>\n",
       "      <th></th>\n",
       "      <th></th>\n",
       "      <th></th>\n",
       "      <th></th>\n",
       "      <th></th>\n",
       "      <th></th>\n",
       "      <th></th>\n",
       "      <th></th>\n",
       "      <th></th>\n",
       "      <th></th>\n",
       "      <th></th>\n",
       "      <th></th>\n",
       "      <th></th>\n",
       "      <th></th>\n",
       "      <th></th>\n",
       "      <th></th>\n",
       "      <th></th>\n",
       "      <th></th>\n",
       "      <th></th>\n",
       "      <th></th>\n",
       "    </tr>\n",
       "  </thead>\n",
       "  <tbody>\n",
       "    <tr>\n",
       "      <th>01:02:08.983700</th>\n",
       "      <td>0</td>\n",
       "      <td>0</td>\n",
       "      <td>0</td>\n",
       "      <td>0</td>\n",
       "      <td>0</td>\n",
       "      <td>0</td>\n",
       "      <td>0</td>\n",
       "      <td>0</td>\n",
       "      <td>0</td>\n",
       "      <td>0</td>\n",
       "      <td>...</td>\n",
       "      <td>0</td>\n",
       "      <td>0</td>\n",
       "      <td>0</td>\n",
       "      <td>0</td>\n",
       "      <td>0</td>\n",
       "      <td>0</td>\n",
       "      <td>0</td>\n",
       "      <td>0</td>\n",
       "      <td>0</td>\n",
       "      <td>0</td>\n",
       "    </tr>\n",
       "    <tr>\n",
       "      <th>01:02:08.984366</th>\n",
       "      <td>0</td>\n",
       "      <td>0</td>\n",
       "      <td>0</td>\n",
       "      <td>0</td>\n",
       "      <td>0</td>\n",
       "      <td>0</td>\n",
       "      <td>0</td>\n",
       "      <td>0</td>\n",
       "      <td>0</td>\n",
       "      <td>0</td>\n",
       "      <td>...</td>\n",
       "      <td>0</td>\n",
       "      <td>0</td>\n",
       "      <td>0</td>\n",
       "      <td>0</td>\n",
       "      <td>0</td>\n",
       "      <td>0</td>\n",
       "      <td>0</td>\n",
       "      <td>0</td>\n",
       "      <td>0</td>\n",
       "      <td>0</td>\n",
       "    </tr>\n",
       "    <tr>\n",
       "      <th>01:02:08.985033</th>\n",
       "      <td>0</td>\n",
       "      <td>0</td>\n",
       "      <td>0</td>\n",
       "      <td>0</td>\n",
       "      <td>0</td>\n",
       "      <td>0</td>\n",
       "      <td>0</td>\n",
       "      <td>0</td>\n",
       "      <td>0</td>\n",
       "      <td>0</td>\n",
       "      <td>...</td>\n",
       "      <td>0</td>\n",
       "      <td>0</td>\n",
       "      <td>0</td>\n",
       "      <td>0</td>\n",
       "      <td>0</td>\n",
       "      <td>0</td>\n",
       "      <td>0</td>\n",
       "      <td>0</td>\n",
       "      <td>0</td>\n",
       "      <td>0</td>\n",
       "    </tr>\n",
       "    <tr>\n",
       "      <th>01:02:08.985700</th>\n",
       "      <td>0</td>\n",
       "      <td>0</td>\n",
       "      <td>0</td>\n",
       "      <td>0</td>\n",
       "      <td>0</td>\n",
       "      <td>0</td>\n",
       "      <td>0</td>\n",
       "      <td>0</td>\n",
       "      <td>0</td>\n",
       "      <td>0</td>\n",
       "      <td>...</td>\n",
       "      <td>0</td>\n",
       "      <td>0</td>\n",
       "      <td>0</td>\n",
       "      <td>0</td>\n",
       "      <td>0</td>\n",
       "      <td>0</td>\n",
       "      <td>0</td>\n",
       "      <td>0</td>\n",
       "      <td>0</td>\n",
       "      <td>0</td>\n",
       "    </tr>\n",
       "    <tr>\n",
       "      <th>01:02:08.986366</th>\n",
       "      <td>0</td>\n",
       "      <td>0</td>\n",
       "      <td>0</td>\n",
       "      <td>0</td>\n",
       "      <td>0</td>\n",
       "      <td>0</td>\n",
       "      <td>0</td>\n",
       "      <td>0</td>\n",
       "      <td>0</td>\n",
       "      <td>0</td>\n",
       "      <td>...</td>\n",
       "      <td>0</td>\n",
       "      <td>0</td>\n",
       "      <td>0</td>\n",
       "      <td>0</td>\n",
       "      <td>0</td>\n",
       "      <td>0</td>\n",
       "      <td>0</td>\n",
       "      <td>0</td>\n",
       "      <td>0</td>\n",
       "      <td>0</td>\n",
       "    </tr>\n",
       "    <tr>\n",
       "      <th>...</th>\n",
       "      <td>...</td>\n",
       "      <td>...</td>\n",
       "      <td>...</td>\n",
       "      <td>...</td>\n",
       "      <td>...</td>\n",
       "      <td>...</td>\n",
       "      <td>...</td>\n",
       "      <td>...</td>\n",
       "      <td>...</td>\n",
       "      <td>...</td>\n",
       "      <td>...</td>\n",
       "      <td>...</td>\n",
       "      <td>...</td>\n",
       "      <td>...</td>\n",
       "      <td>...</td>\n",
       "      <td>...</td>\n",
       "      <td>...</td>\n",
       "      <td>...</td>\n",
       "      <td>...</td>\n",
       "      <td>...</td>\n",
       "      <td>...</td>\n",
       "    </tr>\n",
       "    <tr>\n",
       "      <th>01:17:40.015700</th>\n",
       "      <td>0</td>\n",
       "      <td>0</td>\n",
       "      <td>0</td>\n",
       "      <td>0</td>\n",
       "      <td>0</td>\n",
       "      <td>0</td>\n",
       "      <td>0</td>\n",
       "      <td>0</td>\n",
       "      <td>0</td>\n",
       "      <td>0</td>\n",
       "      <td>...</td>\n",
       "      <td>0</td>\n",
       "      <td>0</td>\n",
       "      <td>0</td>\n",
       "      <td>0</td>\n",
       "      <td>0</td>\n",
       "      <td>0</td>\n",
       "      <td>0</td>\n",
       "      <td>0</td>\n",
       "      <td>0</td>\n",
       "      <td>0</td>\n",
       "    </tr>\n",
       "    <tr>\n",
       "      <th>01:17:40.016366</th>\n",
       "      <td>0</td>\n",
       "      <td>0</td>\n",
       "      <td>0</td>\n",
       "      <td>0</td>\n",
       "      <td>0</td>\n",
       "      <td>0</td>\n",
       "      <td>0</td>\n",
       "      <td>0</td>\n",
       "      <td>0</td>\n",
       "      <td>0</td>\n",
       "      <td>...</td>\n",
       "      <td>0</td>\n",
       "      <td>0</td>\n",
       "      <td>0</td>\n",
       "      <td>0</td>\n",
       "      <td>0</td>\n",
       "      <td>0</td>\n",
       "      <td>0</td>\n",
       "      <td>0</td>\n",
       "      <td>0</td>\n",
       "      <td>0</td>\n",
       "    </tr>\n",
       "    <tr>\n",
       "      <th>01:17:40.017033</th>\n",
       "      <td>0</td>\n",
       "      <td>0</td>\n",
       "      <td>0</td>\n",
       "      <td>0</td>\n",
       "      <td>0</td>\n",
       "      <td>0</td>\n",
       "      <td>0</td>\n",
       "      <td>0</td>\n",
       "      <td>0</td>\n",
       "      <td>0</td>\n",
       "      <td>...</td>\n",
       "      <td>0</td>\n",
       "      <td>0</td>\n",
       "      <td>0</td>\n",
       "      <td>0</td>\n",
       "      <td>0</td>\n",
       "      <td>0</td>\n",
       "      <td>0</td>\n",
       "      <td>0</td>\n",
       "      <td>0</td>\n",
       "      <td>0</td>\n",
       "    </tr>\n",
       "    <tr>\n",
       "      <th>01:17:40.017700</th>\n",
       "      <td>0</td>\n",
       "      <td>0</td>\n",
       "      <td>0</td>\n",
       "      <td>0</td>\n",
       "      <td>0</td>\n",
       "      <td>0</td>\n",
       "      <td>0</td>\n",
       "      <td>0</td>\n",
       "      <td>0</td>\n",
       "      <td>0</td>\n",
       "      <td>...</td>\n",
       "      <td>0</td>\n",
       "      <td>0</td>\n",
       "      <td>0</td>\n",
       "      <td>0</td>\n",
       "      <td>0</td>\n",
       "      <td>0</td>\n",
       "      <td>0</td>\n",
       "      <td>0</td>\n",
       "      <td>0</td>\n",
       "      <td>0</td>\n",
       "    </tr>\n",
       "    <tr>\n",
       "      <th>01:17:40.018366</th>\n",
       "      <td>0</td>\n",
       "      <td>0</td>\n",
       "      <td>0</td>\n",
       "      <td>0</td>\n",
       "      <td>0</td>\n",
       "      <td>0</td>\n",
       "      <td>0</td>\n",
       "      <td>0</td>\n",
       "      <td>0</td>\n",
       "      <td>0</td>\n",
       "      <td>...</td>\n",
       "      <td>0</td>\n",
       "      <td>0</td>\n",
       "      <td>0</td>\n",
       "      <td>0</td>\n",
       "      <td>0</td>\n",
       "      <td>0</td>\n",
       "      <td>0</td>\n",
       "      <td>0</td>\n",
       "      <td>0</td>\n",
       "      <td>0</td>\n",
       "    </tr>\n",
       "  </tbody>\n",
       "</table>\n",
       "<p>1396553 rows × 32 columns</p>\n",
       "</div>"
      ],
      "text/plain": [
       "                 bon_03_02_001_001  bon_03_02_001_002  bon_03_02_001_003  \\\n",
       "time                                                                       \n",
       "01:02:08.983700                  0                  0                  0   \n",
       "01:02:08.984366                  0                  0                  0   \n",
       "01:02:08.985033                  0                  0                  0   \n",
       "01:02:08.985700                  0                  0                  0   \n",
       "01:02:08.986366                  0                  0                  0   \n",
       "...                            ...                ...                ...   \n",
       "01:17:40.015700                  0                  0                  0   \n",
       "01:17:40.016366                  0                  0                  0   \n",
       "01:17:40.017033                  0                  0                  0   \n",
       "01:17:40.017700                  0                  0                  0   \n",
       "01:17:40.018366                  0                  0                  0   \n",
       "\n",
       "                 bon_03_02_001_004  bon_03_02_001_005  bon_03_02_001_006  \\\n",
       "time                                                                       \n",
       "01:02:08.983700                  0                  0                  0   \n",
       "01:02:08.984366                  0                  0                  0   \n",
       "01:02:08.985033                  0                  0                  0   \n",
       "01:02:08.985700                  0                  0                  0   \n",
       "01:02:08.986366                  0                  0                  0   \n",
       "...                            ...                ...                ...   \n",
       "01:17:40.015700                  0                  0                  0   \n",
       "01:17:40.016366                  0                  0                  0   \n",
       "01:17:40.017033                  0                  0                  0   \n",
       "01:17:40.017700                  0                  0                  0   \n",
       "01:17:40.018366                  0                  0                  0   \n",
       "\n",
       "                 bon_03_02_003_001  bon_03_02_003_002  bon_03_02_003_003  \\\n",
       "time                                                                       \n",
       "01:02:08.983700                  0                  0                  0   \n",
       "01:02:08.984366                  0                  0                  0   \n",
       "01:02:08.985033                  0                  0                  0   \n",
       "01:02:08.985700                  0                  0                  0   \n",
       "01:02:08.986366                  0                  0                  0   \n",
       "...                            ...                ...                ...   \n",
       "01:17:40.015700                  0                  0                  0   \n",
       "01:17:40.016366                  0                  0                  0   \n",
       "01:17:40.017033                  0                  0                  0   \n",
       "01:17:40.017700                  0                  0                  0   \n",
       "01:17:40.018366                  0                  0                  0   \n",
       "\n",
       "                 bon_03_02_005_001  ...  bon_03_02_020_002  bon_03_02_020_003  \\\n",
       "time                                ...                                         \n",
       "01:02:08.983700                  0  ...                  0                  0   \n",
       "01:02:08.984366                  0  ...                  0                  0   \n",
       "01:02:08.985033                  0  ...                  0                  0   \n",
       "01:02:08.985700                  0  ...                  0                  0   \n",
       "01:02:08.986366                  0  ...                  0                  0   \n",
       "...                            ...  ...                ...                ...   \n",
       "01:17:40.015700                  0  ...                  0                  0   \n",
       "01:17:40.016366                  0  ...                  0                  0   \n",
       "01:17:40.017033                  0  ...                  0                  0   \n",
       "01:17:40.017700                  0  ...                  0                  0   \n",
       "01:17:40.018366                  0  ...                  0                  0   \n",
       "\n",
       "                 bon_03_02_022_001  bon_03_02_023_001  bon_03_02_023_002  \\\n",
       "time                                                                       \n",
       "01:02:08.983700                  0                  0                  0   \n",
       "01:02:08.984366                  0                  0                  0   \n",
       "01:02:08.985033                  0                  0                  0   \n",
       "01:02:08.985700                  0                  0                  0   \n",
       "01:02:08.986366                  0                  0                  0   \n",
       "...                            ...                ...                ...   \n",
       "01:17:40.015700                  0                  0                  0   \n",
       "01:17:40.016366                  0                  0                  0   \n",
       "01:17:40.017033                  0                  0                  0   \n",
       "01:17:40.017700                  0                  0                  0   \n",
       "01:17:40.018366                  0                  0                  0   \n",
       "\n",
       "                 bon_03_02_024_001  bon_03_02_024_002  bon_03_02_029_001  \\\n",
       "time                                                                       \n",
       "01:02:08.983700                  0                  0                  0   \n",
       "01:02:08.984366                  0                  0                  0   \n",
       "01:02:08.985033                  0                  0                  0   \n",
       "01:02:08.985700                  0                  0                  0   \n",
       "01:02:08.986366                  0                  0                  0   \n",
       "...                            ...                ...                ...   \n",
       "01:17:40.015700                  0                  0                  0   \n",
       "01:17:40.016366                  0                  0                  0   \n",
       "01:17:40.017033                  0                  0                  0   \n",
       "01:17:40.017700                  0                  0                  0   \n",
       "01:17:40.018366                  0                  0                  0   \n",
       "\n",
       "                 bon_03_02_029_002  bon_03_02_029_003  \n",
       "time                                                   \n",
       "01:02:08.983700                  0                  0  \n",
       "01:02:08.984366                  0                  0  \n",
       "01:02:08.985033                  0                  0  \n",
       "01:02:08.985700                  0                  0  \n",
       "01:02:08.986366                  0                  0  \n",
       "...                            ...                ...  \n",
       "01:17:40.015700                  0                  0  \n",
       "01:17:40.016366                  0                  0  \n",
       "01:17:40.017033                  0                  0  \n",
       "01:17:40.017700                  0                  0  \n",
       "01:17:40.018366                  0                  0  \n",
       "\n",
       "[1396553 rows x 32 columns]"
      ]
     },
     "execution_count": 40,
     "metadata": {},
     "output_type": "execute_result"
    }
   ],
   "source": [
    "%time get_all_spike_indicators(neuron_keys, animals)"
   ]
  },
  {
   "cell_type": "code",
   "execution_count": 10,
   "metadata": {},
   "outputs": [
    {
     "name": "stderr",
     "output_type": "stream",
     "text": [
      "WARNING:loren_frank_data_processing.core:Failed to load file: /Users/edeno/Documents/GitHub/loren_frank_data_processing/Raw-Data/Bond/bonDIO03.mat\n",
      "WARNING:loren_frank_data_processing.core:No DIO file found, using distance from well to segment trials\n",
      "WARNING:loren_frank_data_processing.core:Failed to load file: /Users/edeno/Documents/GitHub/loren_frank_data_processing/Raw-Data/Bond/bonDIO03.mat\n",
      "WARNING:loren_frank_data_processing.core:No DIO file found, inferring correct inbound/outbound from task rules\n"
     ]
    }
   ],
   "source": [
    "from loren_frank_data_processing.track_segment_classification import (\n",
    "    get_track_segments_from_graph, project_points_to_segment, route_distance)\n",
    "from loren_frank_data_processing.position import make_track_graph\n",
    "\n",
    "position = get_position_dataframe(epoch_key, animals).loc[:, ['x_position', 'y_position']].values\n",
    "track_graph, center_well_id = make_track_graph(epoch_key, animals)\n",
    "track_segments = get_track_segments_from_graph(track_graph)\n",
    "projected_track_position = project_points_to_segment(\n",
    "    track_segments, position)"
   ]
  },
  {
   "cell_type": "code",
   "execution_count": 27,
   "metadata": {},
   "outputs": [],
   "source": [
    "candidates_t_1, candidates_t = projected_track_position[1], projected_track_position[0]"
   ]
  },
  {
   "cell_type": "code",
   "execution_count": 50,
   "metadata": {},
   "outputs": [],
   "source": [
    "import networkx as nx\n",
    "from itertools import product\n",
    "\n",
    "n_segments = len(track_graph.edges)\n",
    "track_graph1 = track_graph.copy()"
   ]
  },
  {
   "cell_type": "code",
   "execution_count": 73,
   "metadata": {},
   "outputs": [],
   "source": [
    "from math import sqrt\n",
    "\n",
    "for edge_number, (position_t, position_t_1, (node1, node2)) in enumerate(\n",
    "        zip(candidates_t, candidates_t_1, track_graph.edges)):\n",
    "    node_name_t, node_name_t_1 = f't_{edge_number}', f't_1_{edge_number}'\n",
    "    \n",
    "    track_graph1.nodes[node_name_t]['pos'] = tuple(position_t)\n",
    "    track_graph1.nodes[node_name_t_1]['pos'] = tuple(position_t_1)\n",
    "    nx.add_path(track_graph1, [node1, node_name_t, node2])\n",
    "    nx.add_path(track_graph1, [node1, node_name_t_1, node2])\n",
    "    nx.add_path(track_graph1, [node_name_t, node_name_t_1])\n",
    "    \n",
    "# calculate distance\n",
    "for node1, node2 in track_graph1.edges:\n",
    "    x1, y1 = track_graph1.nodes[node1]['pos']\n",
    "    x2, y2 = track_graph1.nodes[node2]['pos']\n",
    "    track_graph1.edges[(node1, node2)]['distance'] = sqrt(\n",
    "        (x2 - x1)**2 + (y2 - y1)**2)\n",
    "    \n",
    "# calculate path distance\n",
    "path_distance = np.zeros((n_segments, n_segments))\n",
    "length = dict(nx.all_pairs_dijkstra_path_length(\n",
    "    track_graph1, weight=\"distance\"))\n",
    "\n",
    "for source, target in product(range(n_segments), range(n_segments)):\n",
    "    path_distance[source, target] = length[f't_{source}'][f't_1_{target}']"
   ]
  },
  {
   "cell_type": "code",
   "execution_count": 74,
   "metadata": {},
   "outputs": [
    {
     "data": {
      "text/html": [
       "<div>\n",
       "<style scoped>\n",
       "    .dataframe tbody tr th:only-of-type {\n",
       "        vertical-align: middle;\n",
       "    }\n",
       "\n",
       "    .dataframe tbody tr th {\n",
       "        vertical-align: top;\n",
       "    }\n",
       "\n",
       "    .dataframe thead th {\n",
       "        text-align: right;\n",
       "    }\n",
       "</style>\n",
       "<table border=\"1\" class=\"dataframe\">\n",
       "  <thead>\n",
       "    <tr style=\"text-align: right;\">\n",
       "      <th></th>\n",
       "      <th>0</th>\n",
       "      <th>1</th>\n",
       "      <th>2</th>\n",
       "      <th>3</th>\n",
       "      <th>4</th>\n",
       "    </tr>\n",
       "  </thead>\n",
       "  <tbody>\n",
       "    <tr>\n",
       "      <th>0</th>\n",
       "      <td>0.902784</td>\n",
       "      <td>53.800427</td>\n",
       "      <td>59.074898</td>\n",
       "      <td>145.733633</td>\n",
       "      <td>135.929617</td>\n",
       "    </tr>\n",
       "    <tr>\n",
       "      <th>1</th>\n",
       "      <td>52.897643</td>\n",
       "      <td>0.000000</td>\n",
       "      <td>5.274472</td>\n",
       "      <td>91.933206</td>\n",
       "      <td>82.129190</td>\n",
       "    </tr>\n",
       "    <tr>\n",
       "      <th>2</th>\n",
       "      <td>58.681008</td>\n",
       "      <td>5.783364</td>\n",
       "      <td>0.508893</td>\n",
       "      <td>97.716570</td>\n",
       "      <td>76.345825</td>\n",
       "    </tr>\n",
       "    <tr>\n",
       "      <th>3</th>\n",
       "      <td>145.750501</td>\n",
       "      <td>92.852858</td>\n",
       "      <td>98.127330</td>\n",
       "      <td>0.919652</td>\n",
       "      <td>174.982048</td>\n",
       "    </tr>\n",
       "    <tr>\n",
       "      <th>4</th>\n",
       "      <td>135.931137</td>\n",
       "      <td>83.033493</td>\n",
       "      <td>77.759022</td>\n",
       "      <td>174.966699</td>\n",
       "      <td>0.904304</td>\n",
       "    </tr>\n",
       "  </tbody>\n",
       "</table>\n",
       "</div>"
      ],
      "text/plain": [
       "            0          1          2           3           4\n",
       "0    0.902784  53.800427  59.074898  145.733633  135.929617\n",
       "1   52.897643   0.000000   5.274472   91.933206   82.129190\n",
       "2   58.681008   5.783364   0.508893   97.716570   76.345825\n",
       "3  145.750501  92.852858  98.127330    0.919652  174.982048\n",
       "4  135.931137  83.033493  77.759022  174.966699    0.904304"
      ]
     },
     "execution_count": 74,
     "metadata": {},
     "output_type": "execute_result"
    }
   ],
   "source": [
    "pd.DataFrame(path_distance)"
   ]
  },
  {
   "cell_type": "code",
   "execution_count": 72,
   "metadata": {},
   "outputs": [
    {
     "data": {
      "text/html": [
       "<div>\n",
       "<style scoped>\n",
       "    .dataframe tbody tr th:only-of-type {\n",
       "        vertical-align: middle;\n",
       "    }\n",
       "\n",
       "    .dataframe tbody tr th {\n",
       "        vertical-align: top;\n",
       "    }\n",
       "\n",
       "    .dataframe thead th {\n",
       "        text-align: right;\n",
       "    }\n",
       "</style>\n",
       "<table border=\"1\" class=\"dataframe\">\n",
       "  <thead>\n",
       "    <tr style=\"text-align: right;\">\n",
       "      <th></th>\n",
       "      <th>0</th>\n",
       "      <th>1</th>\n",
       "      <th>2</th>\n",
       "      <th>3</th>\n",
       "      <th>4</th>\n",
       "    </tr>\n",
       "  </thead>\n",
       "  <tbody>\n",
       "    <tr>\n",
       "      <th>0</th>\n",
       "      <td>0.902784</td>\n",
       "      <td>53.800427</td>\n",
       "      <td>59.074898</td>\n",
       "      <td>145.733633</td>\n",
       "      <td>135.929617</td>\n",
       "    </tr>\n",
       "    <tr>\n",
       "      <th>1</th>\n",
       "      <td>52.897643</td>\n",
       "      <td>0.000000</td>\n",
       "      <td>5.274472</td>\n",
       "      <td>91.933206</td>\n",
       "      <td>82.129190</td>\n",
       "    </tr>\n",
       "    <tr>\n",
       "      <th>2</th>\n",
       "      <td>58.681008</td>\n",
       "      <td>5.783364</td>\n",
       "      <td>0.508893</td>\n",
       "      <td>97.716570</td>\n",
       "      <td>76.345825</td>\n",
       "    </tr>\n",
       "    <tr>\n",
       "      <th>3</th>\n",
       "      <td>145.750501</td>\n",
       "      <td>92.852858</td>\n",
       "      <td>98.127330</td>\n",
       "      <td>0.919652</td>\n",
       "      <td>174.982048</td>\n",
       "    </tr>\n",
       "    <tr>\n",
       "      <th>4</th>\n",
       "      <td>135.931137</td>\n",
       "      <td>83.033493</td>\n",
       "      <td>77.759022</td>\n",
       "      <td>174.966699</td>\n",
       "      <td>0.904304</td>\n",
       "    </tr>\n",
       "  </tbody>\n",
       "</table>\n",
       "</div>"
      ],
      "text/plain": [
       "            0          1          2           3           4\n",
       "0    0.902784  53.800427  59.074898  145.733633  135.929617\n",
       "1   52.897643   0.000000   5.274472   91.933206   82.129190\n",
       "2   58.681008   5.783364   0.508893   97.716570   76.345825\n",
       "3  145.750501  92.852858  98.127330    0.919652  174.982048\n",
       "4  135.931137  83.033493  77.759022  174.966699    0.904304"
      ]
     },
     "execution_count": 72,
     "metadata": {},
     "output_type": "execute_result"
    }
   ],
   "source": [
    "# TODO: speedup function. This takes the most time\n",
    "n_segments = len(track_graph.edges)\n",
    "track_graph1 = track_graph.copy()\n",
    "\n",
    "# insert virtual node\n",
    "for edge_number, (position_t, position_t_1, (node1, node2)) in enumerate(\n",
    "        zip(candidates_t, candidates_t_1, track_graph.edges)):\n",
    "    node_name_t, node_name_t_1 = f't_{edge_number}', f't_1_{edge_number}'\n",
    "    outside_nodes = np.array([node1, node2], dtype=object)\n",
    "    inside_nodes = np.array([node_name_t, node_name_t_1], dtype=object)\n",
    "    outside_pos = np.array(\n",
    "        [track_graph1.nodes[node1]['pos'],\n",
    "         track_graph1.nodes[node2]['pos']], dtype=object)\n",
    "    inside_pos = np.array([position_t, position_t_1])\n",
    "    sorted_outside = np.argsort(outside_pos, axis=0)[:, 0]\n",
    "    sorted_inside = np.argsort(inside_pos, axis=0)[:, 0]\n",
    "    nodes = np.empty((4,), dtype=object)\n",
    "    nodes[[1, 2]] = inside_nodes[sorted_inside]\n",
    "    nodes[[0, 3]] = outside_nodes[sorted_outside]\n",
    "    nx.add_path(track_graph1, nodes)\n",
    "    track_graph1.remove_edge(node1, node2)\n",
    "    track_graph1.nodes[node_name_t]['pos'] = tuple(position_t)\n",
    "    track_graph1.nodes[node_name_t_1]['pos'] = tuple(position_t_1)\n",
    "\n",
    "# calculate distance\n",
    "for node1, node2 in track_graph1.edges:\n",
    "    x1, y1 = track_graph1.nodes[node1]['pos']\n",
    "    x2, y2 = track_graph1.nodes[node2]['pos']\n",
    "    track_graph1.edges[(node1, node2)]['distance'] = sqrt(\n",
    "        (x2 - x1)**2 + (y2 - y1)**2)\n",
    "\n",
    "# calculate path distance\n",
    "path_distance2 = np.zeros((n_segments, n_segments))\n",
    "length = dict(nx.all_pairs_dijkstra_path_length(\n",
    "    track_graph1, weight=\"distance\"))\n",
    "\n",
    "for source, target in product(range(n_segments), range(n_segments)):\n",
    "    path_distance2[source, target] = length[f't_{source}'][f't_1_{target}']\n",
    "    \n",
    "pd.DataFrame(path_distance2)"
   ]
  },
  {
   "cell_type": "code",
   "execution_count": 57,
   "metadata": {},
   "outputs": [
    {
     "data": {
      "text/plain": [
       "[(0, 1, {'distance': 74.03652191605089}),\n",
       " (0, 't_0', {'distance': array([20.23609505, 53.80042686])}),\n",
       " (0, 't_1_0', {'distance': array([20.23609505, 53.80042686])}),\n",
       " (1, 2, {'distance': 36.64266506837956}),\n",
       " (1, 4, {'distance': 31.636944785056215}),\n",
       " (1, 't_0', {'distance': array([20.23609505, 53.80042686])}),\n",
       " (1, 't_1_0', {'distance': array([20.23609505, 53.80042686])}),\n",
       " (1, 't_1', {'distance': array([ 0.        , 36.64266507])}),\n",
       " (1, 't_1_1', {'distance': array([ 0.        , 36.64266507])}),\n",
       " (1, 't_2', {'distance': array([ 5.78336418, 25.8535806 ])}),\n",
       " (1, 't_1_2', {'distance': array([ 5.78336418, 25.8535806 ])}),\n",
       " (2, 3, {'distance': 75.5177284188085}),\n",
       " (2, 't_1', {'distance': array([ 0.        , 36.64266507])}),\n",
       " (2, 't_1_1', {'distance': array([ 0.        , 36.64266507])}),\n",
       " (2, 't_3', {'distance': array([56.21019303, 19.30753539])}),\n",
       " (2, 't_1_3', {'distance': array([56.21019303, 19.30753539])}),\n",
       " (3, 't_3', {'distance': array([56.21019303, 19.30753539])}),\n",
       " (3, 't_1_3', {'distance': array([56.21019303, 19.30753539])}),\n",
       " (4, 5, {'distance': 71.58228499405432}),\n",
       " (4, 't_2', {'distance': array([ 5.78336418, 25.8535806 ])}),\n",
       " (4, 't_1_2', {'distance': array([ 5.78336418, 25.8535806 ])}),\n",
       " (4, 't_4', {'distance': array([51.39654839, 20.18573661])}),\n",
       " (4, 't_1_4', {'distance': array([51.39654839, 20.18573661])}),\n",
       " (5, 't_4', {'distance': array([51.39654839, 20.18573661])}),\n",
       " (5, 't_1_4', {'distance': array([51.39654839, 20.18573661])}),\n",
       " ('t_0', 't_1_0', {'distance': array([0.90278352])}),\n",
       " ('t_1', 't_1_1', {'distance': array([0.])}),\n",
       " ('t_2', 't_1_2', {'distance': array([0.50889256])}),\n",
       " ('t_3', 't_1_3', {'distance': array([0.91965208])}),\n",
       " ('t_4', 't_1_4', {'distance': array([0.90430352])})]"
      ]
     },
     "execution_count": 57,
     "metadata": {},
     "output_type": "execute_result"
    }
   ],
   "source": [
    "list(track_graph1.edges(data=True))"
   ]
  },
  {
   "cell_type": "code",
   "execution_count": 161,
   "metadata": {},
   "outputs": [
    {
     "name": "stdout",
     "output_type": "stream",
     "text": [
      "546 µs ± 70.5 µs per loop (mean ± std. dev. of 7 runs, 1000 loops each)\n"
     ]
    }
   ],
   "source": [
    "%%timeit\n",
    "\n",
    "track_graph1 = track_graph.copy()\n",
    "\n",
    "# insert virtual node\n",
    "for edge_number, (position_t, position_t_1, (node1, node2)) in enumerate(\n",
    "        zip(candidates_t, candidates_t_1, track_graph.edges)):\n",
    "    node_name_t, node_name_t_1 = f't_{edge_number}', f't_1_{edge_number}'\n",
    "    node_name_t = 't_{0}'.format(candidate_id)\n",
    "    node_name_t_1 = 't_1_{0}'.format(candidate_id)\n",
    "    node1, node2 = edge_id\n",
    "    outside_nodes = np.array([node1, node2], dtype=object)\n",
    "    inside_nodes = np.array([node_name_t, node_name_t_1], dtype=object)\n",
    "    outside_pos = np.array(\n",
    "        [track_graph1.nodes[node1]['pos'],\n",
    "         track_graph1.nodes[node2]['pos']], dtype=object)\n",
    "    inside_pos = np.array([position_t, position_t_1])\n",
    "    sorted_outside = np.argsort(outside_pos, axis=0)[:, 0]\n",
    "    sorted_inside = np.argsort(inside_pos, axis=0)[:, 0]\n",
    "    nodes = np.empty((4,), dtype=object)\n",
    "    nodes[[1, 2]] = inside_nodes[sorted_inside]\n",
    "    nodes[[0, 3]] = outside_nodes[sorted_outside]\n",
    "    nx.add_path(track_graph1, nodes)\n",
    "    track_graph1.remove_edge(node1, node2)\n",
    "    track_graph1.nodes[node_name_t]['pos'] = tuple(position_t)\n",
    "    track_graph1.nodes[node_name_t_1]['pos'] = tuple(position_t_1)"
   ]
  },
  {
   "cell_type": "code",
   "execution_count": 173,
   "metadata": {},
   "outputs": [],
   "source": [
    "track_graph1 = track_graph.copy()\n",
    "\n",
    "# insert virtual node\n",
    "for edge_number, (position_t, position_t_1, edge_id) in enumerate(\n",
    "        zip(candidates_t, candidates_t_1, track_graph.edges)):\n",
    "    node_name_t = f't_{edge_number}'\n",
    "    node_name_t_1 = f't_1_{edge_number}'\n",
    "    node1, node2 = edge_id\n",
    "    outside_nodes = np.array([node1, node2], dtype=object)\n",
    "    inside_nodes = np.array([node_name_t, node_name_t_1], dtype=object)\n",
    "    outside_pos = np.array(\n",
    "        [track_graph1.nodes[node1]['pos'],\n",
    "         track_graph1.nodes[node2]['pos']], dtype=object)\n",
    "    inside_pos = np.array([position_t, position_t_1])\n",
    "    sorted_outside = np.argsort(outside_pos, axis=0)[:, 0]\n",
    "    sorted_inside = np.argsort(inside_pos, axis=0)[:, 0]\n",
    "    nodes = np.empty((4,), dtype=object)\n",
    "    nodes[[1, 2]] = inside_nodes[sorted_inside]\n",
    "    nodes[[0, 3]] = outside_nodes[sorted_outside]\n",
    "    nx.add_path(track_graph1, nodes)\n",
    "    track_graph1.remove_edge(node1, node2)\n",
    "    track_graph1.nodes[node_name_t]['pos'] = tuple(position_t)\n",
    "    track_graph1.nodes[node_name_t_1]['pos'] = tuple(position_t_1)"
   ]
  },
  {
   "cell_type": "code",
   "execution_count": 192,
   "metadata": {},
   "outputs": [
    {
     "name": "stdout",
     "output_type": "stream",
     "text": [
      "294 µs ± 77.6 µs per loop (mean ± std. dev. of 7 runs, 1000 loops each)\n"
     ]
    }
   ],
   "source": [
    "%%timeit\n",
    "\n",
    "# calculate distance\n",
    "for node1, node2 in track_graph1.edges:\n",
    "    track_graph1.edges[(node1, node2)]['distance'] = np.linalg.norm(\n",
    "        track_graph1.nodes[node1]['pos'] -\n",
    "        np.array(track_graph1.nodes[node2]['pos']))"
   ]
  },
  {
   "cell_type": "code",
   "execution_count": 176,
   "metadata": {},
   "outputs": [],
   "source": [
    "# calculate distance\n",
    "for node1, node2 in track_graph1.edges:\n",
    "    track_graph1.edges[(node1, node2)]['distance'] = np.linalg.norm(\n",
    "        track_graph1.nodes[node1]['pos'] -\n",
    "        np.array(track_graph1.nodes[node2]['pos']))"
   ]
  },
  {
   "cell_type": "code",
   "execution_count": 193,
   "metadata": {},
   "outputs": [
    {
     "name": "stdout",
     "output_type": "stream",
     "text": [
      "66.1 µs ± 2.48 µs per loop (mean ± std. dev. of 7 runs, 10000 loops each)\n"
     ]
    }
   ],
   "source": [
    "%%timeit\n",
    "\n",
    "# calculate distance\n",
    "for node1, node2 in track_graph1.edges:\n",
    "    x1, y1 = track_graph1.nodes[node1]['pos']\n",
    "    x2, y2 = track_graph1.nodes[node2]['pos']\n",
    "    track_graph1.edges[(node1, node2)]['distance'] =  sqrt((x2 - x1)**2 + (y2-y1)**2)"
   ]
  },
  {
   "cell_type": "code",
   "execution_count": 190,
   "metadata": {},
   "outputs": [],
   "source": [
    "from math import sqrt"
   ]
  },
  {
   "cell_type": "code",
   "execution_count": 149,
   "metadata": {},
   "outputs": [],
   "source": [
    "\n",
    "# calculate distance\n",
    "for e in track_graph1.edges(data=True):\n",
    "    track_graph1.edges[e[:2]]['distance'] = np.linalg.norm(\n",
    "        track_graph1.nodes[e[0]]['pos'] -\n",
    "        np.array(track_graph1.nodes[e[1]]['pos']))"
   ]
  },
  {
   "cell_type": "code",
   "execution_count": 151,
   "metadata": {},
   "outputs": [
    {
     "data": {
      "text/plain": [
       "array([245.40415198, 128.41169581])"
      ]
     },
     "execution_count": 151,
     "metadata": {},
     "output_type": "execute_result"
    }
   ],
   "source": [
    "np.array(track_graph1.nodes[e[1]]['pos'])"
   ]
  },
  {
   "cell_type": "code",
   "execution_count": 136,
   "metadata": {},
   "outputs": [
    {
     "name": "stdout",
     "output_type": "stream",
     "text": [
      "1.01 ms ± 177 µs per loop (mean ± std. dev. of 7 runs, 1000 loops each)\n"
     ]
    }
   ],
   "source": [
    "%%timeit\n",
    "\n",
    "# calculate path distance\n",
    "node_names_t = ['t_{0}'.format(i) for i in range(n_segments)]\n",
    "node_names_t_1 = ['t_1_{0}'.format(i) for i in range(n_segments)]\n",
    "path_distance = [\n",
    "    nx.shortest_path_length(track_graph1, source=node_t, target=node_t_1,\n",
    "                            weight='distance')\n",
    "    for node_t, node_t_1 in product(node_names_t, node_names_t_1)]\n",
    "\n",
    "np.array(path_distance).reshape((n_segments, n_segments))"
   ]
  },
  {
   "cell_type": "code",
   "execution_count": 134,
   "metadata": {},
   "outputs": [
    {
     "name": "stdout",
     "output_type": "stream",
     "text": [
      "858 µs ± 39.2 µs per loop (mean ± std. dev. of 7 runs, 1000 loops each)\n"
     ]
    }
   ],
   "source": [
    "%%timeit\n",
    "\n",
    "path_distance = np.zeros((n_segments, n_segments))\n",
    "for source, target in product(range(n_segments), range(n_segments)):\n",
    "    path_distance[source, target] = nx.shortest_path_length(\n",
    "        track_graph1, source=f't_{source}', target=f't_1_{target}',\n",
    "        weight='distance')"
   ]
  },
  {
   "cell_type": "code",
   "execution_count": 137,
   "metadata": {},
   "outputs": [
    {
     "name": "stdout",
     "output_type": "stream",
     "text": [
      "798 µs ± 57.7 µs per loop (mean ± std. dev. of 7 runs, 1000 loops each)\n"
     ]
    }
   ],
   "source": [
    "%%timeit\n",
    "node_names_t = ['t_{0}'.format(i) for i in range(n_segments)]\n",
    "node_names_t_1 = ['t_1_{0}'.format(i) for i in range(n_segments)]\n",
    "length = dict(nx.all_pairs_dijkstra_path_length(track_graph1, weight=\"distance\"))\n",
    "path_distance = [\n",
    "    length[node_t][node_t_1]\n",
    "    for node_t, node_t_1 in product(node_names_t, node_names_t_1)]"
   ]
  },
  {
   "cell_type": "code",
   "execution_count": 138,
   "metadata": {},
   "outputs": [
    {
     "name": "stdout",
     "output_type": "stream",
     "text": [
      "650 µs ± 34 µs per loop (mean ± std. dev. of 7 runs, 1000 loops each)\n"
     ]
    }
   ],
   "source": [
    "%%timeit\n",
    "\n",
    "path_distance = np.zeros((n_segments, n_segments))\n",
    "length = dict(nx.all_pairs_dijkstra_path_length(track_graph1, weight=\"distance\"))\n",
    "\n",
    "for source, target in product(range(n_segments), range(n_segments)):\n",
    "    path_distance[source, target] = length[f't_{source}'][f't_1_{target}']"
   ]
  },
  {
   "cell_type": "code",
   "execution_count": 131,
   "metadata": {},
   "outputs": [],
   "source": [
    "# calculate path distance\n",
    "node_names_t = ['t_{0}'.format(i) for i in range(n_segments)]\n",
    "node_names_t_1 = ['t_1_{0}'.format(i) for i in range(n_segments)]\n",
    "path_distance = [\n",
    "    nx.shortest_path_length(track_graph1, source=node_t, target=node_t_1,\n",
    "                            weight='distance')\n",
    "    for node_t, node_t_1 in product(node_names_t, node_names_t_1)]"
   ]
  },
  {
   "cell_type": "code",
   "execution_count": 133,
   "metadata": {},
   "outputs": [
    {
     "data": {
      "text/html": [
       "<div>\n",
       "<style scoped>\n",
       "    .dataframe tbody tr th:only-of-type {\n",
       "        vertical-align: middle;\n",
       "    }\n",
       "\n",
       "    .dataframe tbody tr th {\n",
       "        vertical-align: top;\n",
       "    }\n",
       "\n",
       "    .dataframe thead th {\n",
       "        text-align: right;\n",
       "    }\n",
       "</style>\n",
       "<table border=\"1\" class=\"dataframe\">\n",
       "  <thead>\n",
       "    <tr style=\"text-align: right;\">\n",
       "      <th></th>\n",
       "      <th>0</th>\n",
       "      <th>1</th>\n",
       "      <th>2</th>\n",
       "      <th>3</th>\n",
       "      <th>4</th>\n",
       "    </tr>\n",
       "  </thead>\n",
       "  <tbody>\n",
       "    <tr>\n",
       "      <th>0</th>\n",
       "      <td>0.902784</td>\n",
       "      <td>53.800427</td>\n",
       "      <td>59.074898</td>\n",
       "      <td>145.733633</td>\n",
       "      <td>135.929617</td>\n",
       "    </tr>\n",
       "    <tr>\n",
       "      <th>1</th>\n",
       "      <td>52.897643</td>\n",
       "      <td>0.000000</td>\n",
       "      <td>5.274472</td>\n",
       "      <td>91.933206</td>\n",
       "      <td>82.129190</td>\n",
       "    </tr>\n",
       "    <tr>\n",
       "      <th>2</th>\n",
       "      <td>58.681008</td>\n",
       "      <td>5.783364</td>\n",
       "      <td>0.508893</td>\n",
       "      <td>97.716570</td>\n",
       "      <td>76.345825</td>\n",
       "    </tr>\n",
       "    <tr>\n",
       "      <th>3</th>\n",
       "      <td>145.750501</td>\n",
       "      <td>92.852858</td>\n",
       "      <td>98.127330</td>\n",
       "      <td>0.919652</td>\n",
       "      <td>174.982048</td>\n",
       "    </tr>\n",
       "    <tr>\n",
       "      <th>4</th>\n",
       "      <td>135.931137</td>\n",
       "      <td>83.033493</td>\n",
       "      <td>77.759022</td>\n",
       "      <td>174.966699</td>\n",
       "      <td>0.904304</td>\n",
       "    </tr>\n",
       "  </tbody>\n",
       "</table>\n",
       "</div>"
      ],
      "text/plain": [
       "            0          1          2           3           4\n",
       "0    0.902784  53.800427  59.074898  145.733633  135.929617\n",
       "1   52.897643   0.000000   5.274472   91.933206   82.129190\n",
       "2   58.681008   5.783364   0.508893   97.716570   76.345825\n",
       "3  145.750501  92.852858  98.127330    0.919652  174.982048\n",
       "4  135.931137  83.033493  77.759022  174.966699    0.904304"
      ]
     },
     "execution_count": 133,
     "metadata": {},
     "output_type": "execute_result"
    }
   ],
   "source": [
    "pd.DataFrame(np.array(path_distance).reshape((n_segments, n_segments)))"
   ]
  },
  {
   "cell_type": "code",
   "execution_count": 124,
   "metadata": {},
   "outputs": [
    {
     "name": "stdout",
     "output_type": "stream",
     "text": [
      "471 µs ± 60.1 µs per loop (mean ± std. dev. of 7 runs, 1000 loops each)\n"
     ]
    }
   ],
   "source": [
    "%%timeit\n",
    "\n",
    "path_distance = np.zeros((n_segments, n_segments))\n",
    "\n",
    "for source, target in combinations(range(n_segments), 2):\n",
    "    d = nx.shortest_path_length(\n",
    "            track_graph1, source=f't_{source}', target=f't_1_{target}',\n",
    "            weight='distance')\n",
    "    path_distance[source, target] = d\n",
    "    path_distance[target, source] = d\n",
    "\n",
    "for i in range(n_segments):\n",
    "    path_distance[i, i] = nx.shortest_path_length(\n",
    "        track_graph1, source=f't_{i}', target=f't_1_{i}',\n",
    "        weight='distance')\n",
    "\n"
   ]
  },
  {
   "cell_type": "code",
   "execution_count": 125,
   "metadata": {},
   "outputs": [],
   "source": [
    "path_distance = np.zeros((n_segments, n_segments))\n",
    "\n",
    "for source, target in combinations(range(n_segments), 2):\n",
    "    d = nx.shortest_path_length(\n",
    "            track_graph1, source=f't_{source}', target=f't_1_{target}',\n",
    "            weight='distance')\n",
    "    path_distance[source, target] = d\n",
    "    path_distance[target, source] = d\n",
    "\n",
    "for i in range(n_segments):\n",
    "    path_distance[i, i] = nx.shortest_path_length(\n",
    "        track_graph1, source=f't_{i}', target=f't_1_{i}',\n",
    "        weight='distance')"
   ]
  },
  {
   "cell_type": "code",
   "execution_count": 127,
   "metadata": {},
   "outputs": [
    {
     "data": {
      "text/html": [
       "<div>\n",
       "<style scoped>\n",
       "    .dataframe tbody tr th:only-of-type {\n",
       "        vertical-align: middle;\n",
       "    }\n",
       "\n",
       "    .dataframe tbody tr th {\n",
       "        vertical-align: top;\n",
       "    }\n",
       "\n",
       "    .dataframe thead th {\n",
       "        text-align: right;\n",
       "    }\n",
       "</style>\n",
       "<table border=\"1\" class=\"dataframe\">\n",
       "  <thead>\n",
       "    <tr style=\"text-align: right;\">\n",
       "      <th></th>\n",
       "      <th>0</th>\n",
       "      <th>1</th>\n",
       "      <th>2</th>\n",
       "      <th>3</th>\n",
       "      <th>4</th>\n",
       "    </tr>\n",
       "  </thead>\n",
       "  <tbody>\n",
       "    <tr>\n",
       "      <th>0</th>\n",
       "      <td>0.902784</td>\n",
       "      <td>53.800427</td>\n",
       "      <td>59.074898</td>\n",
       "      <td>145.733633</td>\n",
       "      <td>135.929617</td>\n",
       "    </tr>\n",
       "    <tr>\n",
       "      <th>1</th>\n",
       "      <td>53.800427</td>\n",
       "      <td>0.000000</td>\n",
       "      <td>5.274472</td>\n",
       "      <td>91.933206</td>\n",
       "      <td>82.129190</td>\n",
       "    </tr>\n",
       "    <tr>\n",
       "      <th>2</th>\n",
       "      <td>59.074898</td>\n",
       "      <td>5.274472</td>\n",
       "      <td>0.508893</td>\n",
       "      <td>97.716570</td>\n",
       "      <td>76.345825</td>\n",
       "    </tr>\n",
       "    <tr>\n",
       "      <th>3</th>\n",
       "      <td>145.733633</td>\n",
       "      <td>91.933206</td>\n",
       "      <td>97.716570</td>\n",
       "      <td>0.919652</td>\n",
       "      <td>174.982048</td>\n",
       "    </tr>\n",
       "    <tr>\n",
       "      <th>4</th>\n",
       "      <td>135.929617</td>\n",
       "      <td>82.129190</td>\n",
       "      <td>76.345825</td>\n",
       "      <td>174.982048</td>\n",
       "      <td>0.904304</td>\n",
       "    </tr>\n",
       "  </tbody>\n",
       "</table>\n",
       "</div>"
      ],
      "text/plain": [
       "            0          1          2           3           4\n",
       "0    0.902784  53.800427  59.074898  145.733633  135.929617\n",
       "1   53.800427   0.000000   5.274472   91.933206   82.129190\n",
       "2   59.074898   5.274472   0.508893   97.716570   76.345825\n",
       "3  145.733633  91.933206  97.716570    0.919652  174.982048\n",
       "4  135.929617  82.129190  76.345825  174.982048    0.904304"
      ]
     },
     "execution_count": 127,
     "metadata": {},
     "output_type": "execute_result"
    }
   ],
   "source": [
    "pd.DataFrame(path_distance)"
   ]
  },
  {
   "cell_type": "code",
   "execution_count": 123,
   "metadata": {},
   "outputs": [
    {
     "name": "stdout",
     "output_type": "stream",
     "text": [
      "678 µs ± 146 µs per loop (mean ± std. dev. of 7 runs, 1000 loops each)\n"
     ]
    }
   ],
   "source": [
    "%%timeit\n",
    "\n",
    "path_distance = np.zeros((n_segments, n_segments))\n",
    "length = dict(nx.all_pairs_dijkstra_path_length(track_graph1, weight=\"distance\"))\n",
    "\n",
    "for source, target in combinations(range(n_segments), 2):\n",
    "    path_distance[source, target] = length[f't_{source}'][f't_1_{target}']\n",
    "    path_distance[target, source] = length[f't_{source}'][f't_1_{target}']\n",
    "\n",
    "for i in range(n_segments):\n",
    "    path_distance[i, i] = length[f't_{i}'][f't_1_{i}']\n",
    "\n"
   ]
  },
  {
   "cell_type": "code",
   "execution_count": 117,
   "metadata": {},
   "outputs": [
    {
     "name": "stdout",
     "output_type": "stream",
     "text": [
      "2.33 ms ± 857 µs per loop (mean ± std. dev. of 7 runs, 1000 loops each)\n"
     ]
    }
   ],
   "source": [
    "%%timeit\n",
    "\n",
    "# calculate path distance\n",
    "node_names_t = ['t_{0}'.format(i) for i in range(n_segments)]\n",
    "node_names_t_1 = ['t_1_{0}'.format(i) for i in range(n_segments)]\n",
    "path_distance = [\n",
    "    nx.algorithms.shortest_paths.astar.astar_path_length(track_graph1, source=node_t, target=node_t_1,\n",
    "                            weight='distance')\n",
    "    for node_t, node_t_1 in product(node_names_t, node_names_t_1)]"
   ]
  },
  {
   "cell_type": "code",
   "execution_count": 73,
   "metadata": {},
   "outputs": [
    {
     "data": {
      "text/plain": [
       "[0.9027835247994009,\n",
       " 53.800426861791536,\n",
       " 59.07489848147845,\n",
       " 145.73363287809553,\n",
       " 135.92961650870242,\n",
       " 52.89764333699213,\n",
       " 0.0,\n",
       " 5.274471619686914,\n",
       " 91.93320601630398,\n",
       " 82.12918964691089,\n",
       " 58.68100752123968,\n",
       " 5.783364184247547,\n",
       " 0.5088925645606327,\n",
       " 97.71657020055153,\n",
       " 76.34582546266334,\n",
       " 145.75050143811677,\n",
       " 92.85285810112465,\n",
       " 98.12732972081157,\n",
       " 0.9196520848206653,\n",
       " 174.98204774803554,\n",
       " 135.9311365073906,\n",
       " 83.03349317039847,\n",
       " 77.75902155071155,\n",
       " 174.96669918670247,\n",
       " 0.9043035234875715]"
      ]
     },
     "execution_count": 73,
     "metadata": {},
     "output_type": "execute_result"
    }
   ],
   "source": [
    "path_distance"
   ]
  },
  {
   "cell_type": "code",
   "execution_count": 92,
   "metadata": {},
   "outputs": [],
   "source": [
    "# calculate path distance\n",
    "node_names_t = ['t_{0}'.format(i) for i in range(n_segments)]\n",
    "node_names_t_1 = ['t_1_{0}'.format(i) for i in range(n_segments)]\n",
    "length = dict(nx.all_pairs_dijkstra_path_length(track_graph1, weight=\"distance\"))\n",
    "path_distance2 = [\n",
    "    length[node_t][node_t_1]\n",
    "    for node_t, node_t_1 in product(node_names_t, node_names_t_1)]"
   ]
  },
  {
   "cell_type": "code",
   "execution_count": 116,
   "metadata": {},
   "outputs": [
    {
     "name": "stdout",
     "output_type": "stream",
     "text": [
      "720 µs ± 41.3 µs per loop (mean ± std. dev. of 7 runs, 1000 loops each)\n"
     ]
    }
   ],
   "source": [
    "%%timeit\n",
    "node_names_t = ['t_{0}'.format(i) for i in range(n_segments)]\n",
    "node_names_t_1 = ['t_1_{0}'.format(i) for i in range(n_segments)]\n",
    "length = dict(nx.all_pairs_dijkstra_path_length(track_graph1, weight=\"distance\"))\n",
    "path_distance = [\n",
    "    length[node_t][node_t_1]\n",
    "    for node_t, node_t_1 in product(node_names_t, node_names_t_1)]"
   ]
  },
  {
   "cell_type": "code",
   "execution_count": 128,
   "metadata": {},
   "outputs": [],
   "source": [
    "node_names_t = ['t_{0}'.format(i) for i in range(n_segments)]\n",
    "node_names_t_1 = ['t_1_{0}'.format(i) for i in range(n_segments)]\n",
    "length = dict(nx.all_pairs_dijkstra_path_length(track_graph1, weight=\"distance\"))\n",
    "path_distance = [\n",
    "    length[node_t][node_t_1]\n",
    "    for node_t, node_t_1 in product(node_names_t, node_names_t_1)]"
   ]
  },
  {
   "cell_type": "code",
   "execution_count": 129,
   "metadata": {},
   "outputs": [
    {
     "data": {
      "text/html": [
       "<div>\n",
       "<style scoped>\n",
       "    .dataframe tbody tr th:only-of-type {\n",
       "        vertical-align: middle;\n",
       "    }\n",
       "\n",
       "    .dataframe tbody tr th {\n",
       "        vertical-align: top;\n",
       "    }\n",
       "\n",
       "    .dataframe thead th {\n",
       "        text-align: right;\n",
       "    }\n",
       "</style>\n",
       "<table border=\"1\" class=\"dataframe\">\n",
       "  <thead>\n",
       "    <tr style=\"text-align: right;\">\n",
       "      <th></th>\n",
       "      <th>0</th>\n",
       "      <th>1</th>\n",
       "      <th>2</th>\n",
       "      <th>3</th>\n",
       "      <th>4</th>\n",
       "    </tr>\n",
       "  </thead>\n",
       "  <tbody>\n",
       "    <tr>\n",
       "      <th>0</th>\n",
       "      <td>0.902784</td>\n",
       "      <td>53.800427</td>\n",
       "      <td>59.074898</td>\n",
       "      <td>145.733633</td>\n",
       "      <td>135.929617</td>\n",
       "    </tr>\n",
       "    <tr>\n",
       "      <th>1</th>\n",
       "      <td>52.897643</td>\n",
       "      <td>0.000000</td>\n",
       "      <td>5.274472</td>\n",
       "      <td>91.933206</td>\n",
       "      <td>82.129190</td>\n",
       "    </tr>\n",
       "    <tr>\n",
       "      <th>2</th>\n",
       "      <td>58.681008</td>\n",
       "      <td>5.783364</td>\n",
       "      <td>0.508893</td>\n",
       "      <td>97.716570</td>\n",
       "      <td>76.345825</td>\n",
       "    </tr>\n",
       "    <tr>\n",
       "      <th>3</th>\n",
       "      <td>145.750501</td>\n",
       "      <td>92.852858</td>\n",
       "      <td>98.127330</td>\n",
       "      <td>0.919652</td>\n",
       "      <td>174.982048</td>\n",
       "    </tr>\n",
       "    <tr>\n",
       "      <th>4</th>\n",
       "      <td>135.931137</td>\n",
       "      <td>83.033493</td>\n",
       "      <td>77.759022</td>\n",
       "      <td>174.966699</td>\n",
       "      <td>0.904304</td>\n",
       "    </tr>\n",
       "  </tbody>\n",
       "</table>\n",
       "</div>"
      ],
      "text/plain": [
       "            0          1          2           3           4\n",
       "0    0.902784  53.800427  59.074898  145.733633  135.929617\n",
       "1   52.897643   0.000000   5.274472   91.933206   82.129190\n",
       "2   58.681008   5.783364   0.508893   97.716570   76.345825\n",
       "3  145.750501  92.852858  98.127330    0.919652  174.982048\n",
       "4  135.931137  83.033493  77.759022  174.966699    0.904304"
      ]
     },
     "execution_count": 129,
     "metadata": {},
     "output_type": "execute_result"
    }
   ],
   "source": [
    "pd.DataFrame(np.array(path_distance).reshape((n_segments, n_segments)))"
   ]
  },
  {
   "cell_type": "code",
   "execution_count": 106,
   "metadata": {},
   "outputs": [
    {
     "data": {
      "text/plain": [
       "[(0, 1),\n",
       " (0, 2),\n",
       " (0, 3),\n",
       " (0, 4),\n",
       " (1, 2),\n",
       " (1, 3),\n",
       " (1, 4),\n",
       " (2, 3),\n",
       " (2, 4),\n",
       " (3, 4)]"
      ]
     },
     "execution_count": 106,
     "metadata": {},
     "output_type": "execute_result"
    }
   ],
   "source": [
    "from itertools import combinations\n",
    "node_names_t = ['t_{0}'.format(i) for i in range(n_segments)]\n",
    "node_names_t_1 = ['t_1_{0}'.format(i) for i in range(n_segments)]\n",
    "list(combinations(range(n_segments), 2))"
   ]
  },
  {
   "cell_type": "code",
   "execution_count": 104,
   "metadata": {},
   "outputs": [
    {
     "data": {
      "text/plain": [
       "'t_4'"
      ]
     },
     "execution_count": 104,
     "metadata": {},
     "output_type": "execute_result"
    }
   ],
   "source": [
    "node_name_t"
   ]
  },
  {
   "cell_type": "code",
   "execution_count": 26,
   "metadata": {},
   "outputs": [
    {
     "ename": "NetworkXError",
     "evalue": "Node 't_0' has no position.",
     "output_type": "error",
     "traceback": [
      "\u001b[0;31m---------------------------------------------------------------------------\u001b[0m",
      "\u001b[0;31mKeyError\u001b[0m                                  Traceback (most recent call last)",
      "\u001b[0;32m~/miniconda3/envs/loren_frank_data_processing/lib/python3.8/site-packages/networkx/drawing/nx_pylab.py\u001b[0m in \u001b[0;36mdraw_networkx_nodes\u001b[0;34m(G, pos, nodelist, node_size, node_color, node_shape, alpha, cmap, vmin, vmax, ax, linewidths, edgecolors, label, **kwds)\u001b[0m\n\u001b[1;32m    396\u001b[0m     \u001b[0;32mtry\u001b[0m\u001b[0;34m:\u001b[0m\u001b[0;34m\u001b[0m\u001b[0;34m\u001b[0m\u001b[0m\n\u001b[0;32m--> 397\u001b[0;31m         \u001b[0mxy\u001b[0m \u001b[0;34m=\u001b[0m \u001b[0mnp\u001b[0m\u001b[0;34m.\u001b[0m\u001b[0masarray\u001b[0m\u001b[0;34m(\u001b[0m\u001b[0;34m[\u001b[0m\u001b[0mpos\u001b[0m\u001b[0;34m[\u001b[0m\u001b[0mv\u001b[0m\u001b[0;34m]\u001b[0m \u001b[0;32mfor\u001b[0m \u001b[0mv\u001b[0m \u001b[0;32min\u001b[0m \u001b[0mnodelist\u001b[0m\u001b[0;34m]\u001b[0m\u001b[0;34m)\u001b[0m\u001b[0;34m\u001b[0m\u001b[0;34m\u001b[0m\u001b[0m\n\u001b[0m\u001b[1;32m    398\u001b[0m     \u001b[0;32mexcept\u001b[0m \u001b[0mKeyError\u001b[0m \u001b[0;32mas\u001b[0m \u001b[0me\u001b[0m\u001b[0;34m:\u001b[0m\u001b[0;34m\u001b[0m\u001b[0;34m\u001b[0m\u001b[0m\n",
      "\u001b[0;32m~/miniconda3/envs/loren_frank_data_processing/lib/python3.8/site-packages/networkx/drawing/nx_pylab.py\u001b[0m in \u001b[0;36m<listcomp>\u001b[0;34m(.0)\u001b[0m\n\u001b[1;32m    396\u001b[0m     \u001b[0;32mtry\u001b[0m\u001b[0;34m:\u001b[0m\u001b[0;34m\u001b[0m\u001b[0;34m\u001b[0m\u001b[0m\n\u001b[0;32m--> 397\u001b[0;31m         \u001b[0mxy\u001b[0m \u001b[0;34m=\u001b[0m \u001b[0mnp\u001b[0m\u001b[0;34m.\u001b[0m\u001b[0masarray\u001b[0m\u001b[0;34m(\u001b[0m\u001b[0;34m[\u001b[0m\u001b[0mpos\u001b[0m\u001b[0;34m[\u001b[0m\u001b[0mv\u001b[0m\u001b[0;34m]\u001b[0m \u001b[0;32mfor\u001b[0m \u001b[0mv\u001b[0m \u001b[0;32min\u001b[0m \u001b[0mnodelist\u001b[0m\u001b[0;34m]\u001b[0m\u001b[0;34m)\u001b[0m\u001b[0;34m\u001b[0m\u001b[0;34m\u001b[0m\u001b[0m\n\u001b[0m\u001b[1;32m    398\u001b[0m     \u001b[0;32mexcept\u001b[0m \u001b[0mKeyError\u001b[0m \u001b[0;32mas\u001b[0m \u001b[0me\u001b[0m\u001b[0;34m:\u001b[0m\u001b[0;34m\u001b[0m\u001b[0;34m\u001b[0m\u001b[0m\n",
      "\u001b[0;31mKeyError\u001b[0m: 't_0'",
      "\nDuring handling of the above exception, another exception occurred:\n",
      "\u001b[0;31mNetworkXError\u001b[0m                             Traceback (most recent call last)",
      "\u001b[0;32m<ipython-input-26-71924f042bc3>\u001b[0m in \u001b[0;36m<module>\u001b[0;34m\u001b[0m\n\u001b[1;32m      3\u001b[0m \u001b[0;34m\u001b[0m\u001b[0m\n\u001b[1;32m      4\u001b[0m \u001b[0mfig\u001b[0m\u001b[0;34m,\u001b[0m \u001b[0max\u001b[0m \u001b[0;34m=\u001b[0m \u001b[0mplt\u001b[0m\u001b[0;34m.\u001b[0m\u001b[0msubplots\u001b[0m\u001b[0;34m(\u001b[0m\u001b[0;36m1\u001b[0m\u001b[0;34m,\u001b[0m \u001b[0;36m1\u001b[0m\u001b[0;34m,\u001b[0m \u001b[0mfigsize\u001b[0m\u001b[0;34m=\u001b[0m\u001b[0;34m(\u001b[0m\u001b[0;36m20\u001b[0m\u001b[0;34m,\u001b[0m \u001b[0;36m20\u001b[0m\u001b[0;34m)\u001b[0m\u001b[0;34m)\u001b[0m\u001b[0;34m\u001b[0m\u001b[0;34m\u001b[0m\u001b[0m\n\u001b[0;32m----> 5\u001b[0;31m nx.draw_networkx(\n\u001b[0m\u001b[1;32m      6\u001b[0m     \u001b[0mtrack_graph1\u001b[0m\u001b[0;34m,\u001b[0m\u001b[0;34m\u001b[0m\u001b[0;34m\u001b[0m\u001b[0m\n\u001b[1;32m      7\u001b[0m     \u001b[0mnode_position\u001b[0m\u001b[0;34m,\u001b[0m\u001b[0;34m\u001b[0m\u001b[0;34m\u001b[0m\u001b[0m\n",
      "\u001b[0;32m~/miniconda3/envs/loren_frank_data_processing/lib/python3.8/site-packages/networkx/drawing/nx_pylab.py\u001b[0m in \u001b[0;36mdraw_networkx\u001b[0;34m(G, pos, arrows, with_labels, **kwds)\u001b[0m\n\u001b[1;32m    272\u001b[0m         \u001b[0mpos\u001b[0m \u001b[0;34m=\u001b[0m \u001b[0mnx\u001b[0m\u001b[0;34m.\u001b[0m\u001b[0mdrawing\u001b[0m\u001b[0;34m.\u001b[0m\u001b[0mspring_layout\u001b[0m\u001b[0;34m(\u001b[0m\u001b[0mG\u001b[0m\u001b[0;34m)\u001b[0m  \u001b[0;31m# default to spring layout\u001b[0m\u001b[0;34m\u001b[0m\u001b[0;34m\u001b[0m\u001b[0m\n\u001b[1;32m    273\u001b[0m \u001b[0;34m\u001b[0m\u001b[0m\n\u001b[0;32m--> 274\u001b[0;31m     \u001b[0mnode_collection\u001b[0m \u001b[0;34m=\u001b[0m \u001b[0mdraw_networkx_nodes\u001b[0m\u001b[0;34m(\u001b[0m\u001b[0mG\u001b[0m\u001b[0;34m,\u001b[0m \u001b[0mpos\u001b[0m\u001b[0;34m,\u001b[0m \u001b[0;34m**\u001b[0m\u001b[0mkwds\u001b[0m\u001b[0;34m)\u001b[0m\u001b[0;34m\u001b[0m\u001b[0;34m\u001b[0m\u001b[0m\n\u001b[0m\u001b[1;32m    275\u001b[0m     \u001b[0medge_collection\u001b[0m \u001b[0;34m=\u001b[0m \u001b[0mdraw_networkx_edges\u001b[0m\u001b[0;34m(\u001b[0m\u001b[0mG\u001b[0m\u001b[0;34m,\u001b[0m \u001b[0mpos\u001b[0m\u001b[0;34m,\u001b[0m \u001b[0marrows\u001b[0m\u001b[0;34m=\u001b[0m\u001b[0marrows\u001b[0m\u001b[0;34m,\u001b[0m \u001b[0;34m**\u001b[0m\u001b[0mkwds\u001b[0m\u001b[0;34m)\u001b[0m\u001b[0;34m\u001b[0m\u001b[0;34m\u001b[0m\u001b[0m\n\u001b[1;32m    276\u001b[0m     \u001b[0;32mif\u001b[0m \u001b[0mwith_labels\u001b[0m\u001b[0;34m:\u001b[0m\u001b[0;34m\u001b[0m\u001b[0;34m\u001b[0m\u001b[0m\n",
      "\u001b[0;32m~/miniconda3/envs/loren_frank_data_processing/lib/python3.8/site-packages/networkx/drawing/nx_pylab.py\u001b[0m in \u001b[0;36mdraw_networkx_nodes\u001b[0;34m(G, pos, nodelist, node_size, node_color, node_shape, alpha, cmap, vmin, vmax, ax, linewidths, edgecolors, label, **kwds)\u001b[0m\n\u001b[1;32m    397\u001b[0m         \u001b[0mxy\u001b[0m \u001b[0;34m=\u001b[0m \u001b[0mnp\u001b[0m\u001b[0;34m.\u001b[0m\u001b[0masarray\u001b[0m\u001b[0;34m(\u001b[0m\u001b[0;34m[\u001b[0m\u001b[0mpos\u001b[0m\u001b[0;34m[\u001b[0m\u001b[0mv\u001b[0m\u001b[0;34m]\u001b[0m \u001b[0;32mfor\u001b[0m \u001b[0mv\u001b[0m \u001b[0;32min\u001b[0m \u001b[0mnodelist\u001b[0m\u001b[0;34m]\u001b[0m\u001b[0;34m)\u001b[0m\u001b[0;34m\u001b[0m\u001b[0;34m\u001b[0m\u001b[0m\n\u001b[1;32m    398\u001b[0m     \u001b[0;32mexcept\u001b[0m \u001b[0mKeyError\u001b[0m \u001b[0;32mas\u001b[0m \u001b[0me\u001b[0m\u001b[0;34m:\u001b[0m\u001b[0;34m\u001b[0m\u001b[0;34m\u001b[0m\u001b[0m\n\u001b[0;32m--> 399\u001b[0;31m         \u001b[0;32mraise\u001b[0m \u001b[0mnx\u001b[0m\u001b[0;34m.\u001b[0m\u001b[0mNetworkXError\u001b[0m\u001b[0;34m(\u001b[0m\u001b[0;34m'Node %s has no position.'\u001b[0m \u001b[0;34m%\u001b[0m \u001b[0me\u001b[0m\u001b[0;34m)\u001b[0m\u001b[0;34m\u001b[0m\u001b[0;34m\u001b[0m\u001b[0m\n\u001b[0m\u001b[1;32m    400\u001b[0m     \u001b[0;32mexcept\u001b[0m \u001b[0mValueError\u001b[0m\u001b[0;34m:\u001b[0m\u001b[0;34m\u001b[0m\u001b[0;34m\u001b[0m\u001b[0m\n\u001b[1;32m    401\u001b[0m         \u001b[0;32mraise\u001b[0m \u001b[0mnx\u001b[0m\u001b[0;34m.\u001b[0m\u001b[0mNetworkXError\u001b[0m\u001b[0;34m(\u001b[0m\u001b[0;34m'Bad value in node positions.'\u001b[0m\u001b[0;34m)\u001b[0m\u001b[0;34m\u001b[0m\u001b[0;34m\u001b[0m\u001b[0m\n",
      "\u001b[0;31mNetworkXError\u001b[0m: Node 't_0' has no position."
     ]
    },
    {
     "data": {
      "image/png": "[encoded data removed]",
      "text/plain": [
       "<Figure size 1440x1440 with 1 Axes>"
      ]
     },
     "metadata": {
      "image/png": {
       "height": 1121,
       "width": 1161
      },
      "needs_background": "light"
     },
     "output_type": "display_data"
    }
   ],
   "source": [
    "node_position = nx.get_node_attributes(track_graph1, \"pos\")\n",
    "edge_labels = {edge: ind for ind, edge in enumerate(track_graph1.edges)}\n",
    "\n",
    "fig, ax = plt.subplots(1, 1, figsize=(20, 20))\n",
    "nx.draw_networkx(\n",
    "    track_graph1,\n",
    "    node_position,\n",
    "    width=4,\n",
    "    alpha=1,\n",
    "    edge_cmap=plt.get_cmap(\"tab20\"),\n",
    "    ax=ax,\n",
    "    with_labels=True,\n",
    "    node_size=10,\n",
    ")"
   ]
  },
  {
   "cell_type": "code",
   "execution_count": 89,
   "metadata": {},
   "outputs": [
    {
     "data": {
      "text/plain": [
       "\u001b[0;31mSignature:\u001b[0m \u001b[0mnx\u001b[0m\u001b[0;34m.\u001b[0m\u001b[0mall_pairs_dijkstra_path_length\u001b[0m\u001b[0;34m(\u001b[0m\u001b[0mG\u001b[0m\u001b[0;34m,\u001b[0m \u001b[0mcutoff\u001b[0m\u001b[0;34m=\u001b[0m\u001b[0;32mNone\u001b[0m\u001b[0;34m,\u001b[0m \u001b[0mweight\u001b[0m\u001b[0;34m=\u001b[0m\u001b[0;34m'weight'\u001b[0m\u001b[0;34m)\u001b[0m\u001b[0;34m\u001b[0m\u001b[0;34m\u001b[0m\u001b[0m\n",
       "\u001b[0;31mDocstring:\u001b[0m\n",
       "Compute shortest path lengths between all nodes in a weighted graph.\n",
       "\n",
       "Parameters\n",
       "----------\n",
       "G : NetworkX graph\n",
       "\n",
       "cutoff : integer or float, optional\n",
       "   Depth to stop the search. Only return paths with length <= cutoff.\n",
       "\n",
       "weight : string or function\n",
       "   If this is a string, then edge weights will be accessed via the\n",
       "   edge attribute with this key (that is, the weight of the edge\n",
       "   joining `u` to `v` will be ``G.edges[u, v][weight]``). If no\n",
       "   such edge attribute exists, the weight of the edge is assumed to\n",
       "   be one.\n",
       "\n",
       "   If this is a function, the weight of an edge is the value\n",
       "   returned by the function. The function must accept exactly three\n",
       "   positional arguments: the two endpoints of an edge and the\n",
       "   dictionary of edge attributes for that edge. The function must\n",
       "   return a number.\n",
       "\n",
       "Returns\n",
       "-------\n",
       "distance : iterator\n",
       "    (source, dictionary) iterator with dictionary keyed by target and\n",
       "    shortest path length as the key value.\n",
       "\n",
       "Examples\n",
       "--------\n",
       ">>> G = nx.path_graph(5)\n",
       ">>> length = dict(nx.all_pairs_dijkstra_path_length(G))\n",
       ">>> for node in [0, 1, 2, 3, 4]:\n",
       "...     print('1 - {}: {}'.format(node, length[1][node]))\n",
       "1 - 0: 1\n",
       "1 - 1: 0\n",
       "1 - 2: 1\n",
       "1 - 3: 2\n",
       "1 - 4: 3\n",
       ">>> length[3][2]\n",
       "1\n",
       ">>> length[2][2]\n",
       "0\n",
       "\n",
       "Notes\n",
       "-----\n",
       "Edge weight attributes must be numerical.\n",
       "Distances are calculated as sums of weighted edges traversed.\n",
       "\n",
       "The dictionary returned only has keys for reachable node pairs.\n",
       "\u001b[0;31mFile:\u001b[0m      ~/miniconda3/envs/loren_frank_data_processing/lib/python3.8/site-packages/networkx/algorithms/shortest_paths/weighted.py\n",
       "\u001b[0;31mType:\u001b[0m      function\n"
      ]
     },
     "metadata": {},
     "output_type": "display_data"
    }
   ],
   "source": [
    "nx.all_pairs_dijkstra_path_length?"
   ]
  },
  {
   "cell_type": "code",
   "execution_count": 95,
   "metadata": {},
   "outputs": [],
   "source": [
    "from loren_frank_data_processing.position import get_graph_1D_2D_relationships\n",
    "\n",
    "edge_order = [0, 2, 4, 1, 3]\n",
    "edge_spacing = [15, 0, 15, 0]\n",
    "\n",
    "node_linear_position, node_linear_distance = get_graph_1D_2D_relationships(\n",
    "    track_graph, edge_order, edge_spacing, center_well_id)"
   ]
  },
  {
   "cell_type": "code",
   "execution_count": 97,
   "metadata": {},
   "outputs": [
    {
     "data": {
      "text/plain": [
       "array([[  0.        ,  74.03652192],\n",
       "       [ 74.03652192, 105.6734667 ],\n",
       "       [105.6734667 , 177.2557517 ],\n",
       "       [ 74.03652192, 110.67918698],\n",
       "       [110.67918698, 186.1969154 ]])"
      ]
     },
     "execution_count": 97,
     "metadata": {},
     "output_type": "execute_result"
    }
   ],
   "source": [
    "node_linear_distance"
   ]
  },
  {
   "cell_type": "code",
   "execution_count": 107,
   "metadata": {},
   "outputs": [],
   "source": [
    "for id, df in position_df.groupby('track_segment_id'):\n",
    "    min_lin_dist, max_lin_dist = node_linear_distance[int(id)]\n",
    "    df.loc[df.linear_distance < min_lin_dist] = min_lin_dist\n",
    "    df.loc[df.linear_distance > max_lin_dist] = max_lin_dist"
   ]
  },
  {
   "cell_type": "code",
   "execution_count": null,
   "metadata": {},
   "outputs": [],
   "source": [
    "from loren_frank_data_processing import get_interpolated_position_dataframe\n",
    "\n",
    "position_info = get_interpolated_position_dataframe(epoch_key, animals)"
   ]
  },
  {
   "cell_type": "code",
   "execution_count": 116,
   "metadata": {},
   "outputs": [
    {
     "data": {
      "image/png": "[encoded data removed]",
      "text/plain": [
       "<Figure size 1440x720 with 1 Axes>"
      ]
     },
     "metadata": {
      "image/png": {
       "height": 574,
       "width": 1156
      },
      "needs_background": "light"
     },
     "output_type": "display_data"
    }
   ],
   "source": [
    "plt.figure(figsize=(20, 10))\n",
    "\n",
    "plt.scatter(\n",
    "    position_info.index / np.timedelta64(1, 's'),\n",
    "    position_info.linear_position, s=10)\n",
    "\n",
    "for p in node_linear_position.flat:\n",
    "    plt.axhline(p, color='black')"
   ]
  },
  {
   "cell_type": "code",
   "execution_count": 129,
   "metadata": {},
   "outputs": [
    {
     "data": {
      "text/plain": [
       "10000.0"
      ]
     },
     "execution_count": 129,
     "metadata": {},
     "output_type": "execute_result"
    }
   ],
   "source": [
    "3_000_000 / 300"
   ]
  },
  {
   "cell_type": "code",
   "execution_count": 93,
   "metadata": {},
   "outputs": [
    {
     "data": {
      "text/plain": [
       "[1,\n",
       " 501,\n",
       " 1001,\n",
       " 1501,\n",
       " 2001,\n",
       " 2501,\n",
       " 3001,\n",
       " 3501,\n",
       " 4001,\n",
       " 4501,\n",
       " 5001,\n",
       " 5501,\n",
       " 6001,\n",
       " 6501,\n",
       " 7001,\n",
       " 7501,\n",
       " 8001,\n",
       " 8501,\n",
       " 9001,\n",
       " 9501,\n",
       " 10001,\n",
       " 10501,\n",
       " 11001,\n",
       " 11501,\n",
       " 12001,\n",
       " 12501,\n",
       " 13001,\n",
       " 13501,\n",
       " 14001,\n",
       " 14501,\n",
       " 15001,\n",
       " 15501,\n",
       " 16001,\n",
       " 16501,\n",
       " 17001,\n",
       " 17501,\n",
       " 18001,\n",
       " 18501,\n",
       " 19001,\n",
       " 19501,\n",
       " 20001,\n",
       " 20501,\n",
       " 21001,\n",
       " 21501,\n",
       " 22001,\n",
       " 22501,\n",
       " 23001,\n",
       " 23501,\n",
       " 24001,\n",
       " 24501,\n",
       " 25001,\n",
       " 25501,\n",
       " 26001,\n",
       " 26501,\n",
       " 27001,\n",
       " 27501]"
      ]
     },
     "execution_count": 93,
     "metadata": {},
     "output_type": "execute_result"
    }
   ],
   "source": [
    "\n",
    "n_time = position.shape[0]\n",
    "list(range(1, n_time, 100))"
   ]
  },
  {
   "cell_type": "code",
   "execution_count": 84,
   "metadata": {},
   "outputs": [
    {
     "name": "stderr",
     "output_type": "stream",
     "text": [
      "WARNING:loren_frank_data_processing.core:Failed to load file: /Users/edeno/Documents/GitHub/loren_frank_data_processing/Raw-Data/Bond/bonDIO03.mat\n",
      "WARNING:loren_frank_data_processing.core:No DIO file found, using distance from well to segment trials\n",
      "WARNING:loren_frank_data_processing.core:Failed to load file: /Users/edeno/Documents/GitHub/loren_frank_data_processing/Raw-Data/Bond/bonDIO03.mat\n",
      "WARNING:loren_frank_data_processing.core:No DIO file found, inferring correct inbound/outbound from task rules\n"
     ]
    }
   ],
   "source": [
    "position_df = get_position_dataframe(epoch_key, animals)"
   ]
  },
  {
   "cell_type": "code",
   "execution_count": 85,
   "metadata": {},
   "outputs": [
    {
     "data": {
      "text/plain": [
       "<matplotlib.collections.PathCollection at 0x1292acfa0>"
      ]
     },
     "execution_count": 85,
     "metadata": {},
     "output_type": "execute_result"
    },
    {
     "data": {
      "image/png": "[encoded data removed]",
      "text/plain": [
       "<Figure size 432x288 with 1 Axes>"
      ]
     },
     "metadata": {
      "image/png": {
       "height": 248,
       "width": 375
      },
      "needs_background": "light"
     },
     "output_type": "display_data"
    }
   ],
   "source": [
    "plt.scatter(\n",
    "    position_df.index / np.timedelta64(1, 's'),\n",
    "    position_df.linear_position,\n",
    "    c=position_df.track_segment_id.astype(int))"
   ]
  },
  {
   "cell_type": "code",
   "execution_count": 141,
   "metadata": {},
   "outputs": [
    {
     "data": {
      "text/html": [
       "<div>\n",
       "<style scoped>\n",
       "    .dataframe tbody tr th:only-of-type {\n",
       "        vertical-align: middle;\n",
       "    }\n",
       "\n",
       "    .dataframe tbody tr th {\n",
       "        vertical-align: top;\n",
       "    }\n",
       "\n",
       "    .dataframe thead th {\n",
       "        text-align: right;\n",
       "    }\n",
       "</style>\n",
       "<table border=\"1\" class=\"dataframe\">\n",
       "  <thead>\n",
       "    <tr style=\"text-align: right;\">\n",
       "      <th></th>\n",
       "      <th>0</th>\n",
       "      <th>1</th>\n",
       "      <th>2</th>\n",
       "      <th>3</th>\n",
       "      <th>4</th>\n",
       "      <th>5</th>\n",
       "      <th>6</th>\n",
       "      <th>7</th>\n",
       "      <th>8</th>\n",
       "      <th>9</th>\n",
       "      <th>10</th>\n",
       "    </tr>\n",
       "  </thead>\n",
       "  <tbody>\n",
       "    <tr>\n",
       "      <th>0</th>\n",
       "      <td>0.000000</td>\n",
       "      <td>156.116873</td>\n",
       "      <td>157.019657</td>\n",
       "      <td>103.219230</td>\n",
       "      <td>103.219230</td>\n",
       "      <td>97.944758</td>\n",
       "      <td>97.435866</td>\n",
       "      <td>195.152436</td>\n",
       "      <td>196.072088</td>\n",
       "      <td>21.090040</td>\n",
       "      <td>20.185737</td>\n",
       "    </tr>\n",
       "    <tr>\n",
       "      <th>1</th>\n",
       "      <td>156.116873</td>\n",
       "      <td>0.000000</td>\n",
       "      <td>0.902784</td>\n",
       "      <td>52.897643</td>\n",
       "      <td>52.897643</td>\n",
       "      <td>58.172115</td>\n",
       "      <td>58.681008</td>\n",
       "      <td>144.830849</td>\n",
       "      <td>145.750501</td>\n",
       "      <td>135.026833</td>\n",
       "      <td>135.931137</td>\n",
       "    </tr>\n",
       "    <tr>\n",
       "      <th>2</th>\n",
       "      <td>157.019657</td>\n",
       "      <td>0.902784</td>\n",
       "      <td>0.000000</td>\n",
       "      <td>53.800427</td>\n",
       "      <td>53.800427</td>\n",
       "      <td>59.074898</td>\n",
       "      <td>59.583791</td>\n",
       "      <td>145.733633</td>\n",
       "      <td>146.653285</td>\n",
       "      <td>135.929617</td>\n",
       "      <td>136.833920</td>\n",
       "    </tr>\n",
       "    <tr>\n",
       "      <th>3</th>\n",
       "      <td>103.219230</td>\n",
       "      <td>52.897643</td>\n",
       "      <td>53.800427</td>\n",
       "      <td>0.000000</td>\n",
       "      <td>0.000000</td>\n",
       "      <td>5.274472</td>\n",
       "      <td>5.783364</td>\n",
       "      <td>91.933206</td>\n",
       "      <td>92.852858</td>\n",
       "      <td>82.129190</td>\n",
       "      <td>83.033493</td>\n",
       "    </tr>\n",
       "    <tr>\n",
       "      <th>4</th>\n",
       "      <td>103.219230</td>\n",
       "      <td>52.897643</td>\n",
       "      <td>53.800427</td>\n",
       "      <td>0.000000</td>\n",
       "      <td>0.000000</td>\n",
       "      <td>5.274472</td>\n",
       "      <td>5.783364</td>\n",
       "      <td>91.933206</td>\n",
       "      <td>92.852858</td>\n",
       "      <td>82.129190</td>\n",
       "      <td>83.033493</td>\n",
       "    </tr>\n",
       "    <tr>\n",
       "      <th>5</th>\n",
       "      <td>97.944758</td>\n",
       "      <td>58.172115</td>\n",
       "      <td>59.074898</td>\n",
       "      <td>5.274472</td>\n",
       "      <td>5.274472</td>\n",
       "      <td>0.000000</td>\n",
       "      <td>0.508893</td>\n",
       "      <td>97.207678</td>\n",
       "      <td>98.127330</td>\n",
       "      <td>76.854718</td>\n",
       "      <td>77.759022</td>\n",
       "    </tr>\n",
       "    <tr>\n",
       "      <th>6</th>\n",
       "      <td>97.435866</td>\n",
       "      <td>58.681008</td>\n",
       "      <td>59.583791</td>\n",
       "      <td>5.783364</td>\n",
       "      <td>5.783364</td>\n",
       "      <td>0.508893</td>\n",
       "      <td>0.000000</td>\n",
       "      <td>97.716570</td>\n",
       "      <td>98.636222</td>\n",
       "      <td>76.345825</td>\n",
       "      <td>77.250129</td>\n",
       "    </tr>\n",
       "    <tr>\n",
       "      <th>7</th>\n",
       "      <td>195.152436</td>\n",
       "      <td>144.830849</td>\n",
       "      <td>145.733633</td>\n",
       "      <td>91.933206</td>\n",
       "      <td>91.933206</td>\n",
       "      <td>97.207678</td>\n",
       "      <td>97.716570</td>\n",
       "      <td>0.000000</td>\n",
       "      <td>0.919652</td>\n",
       "      <td>174.062396</td>\n",
       "      <td>174.966699</td>\n",
       "    </tr>\n",
       "    <tr>\n",
       "      <th>8</th>\n",
       "      <td>196.072088</td>\n",
       "      <td>145.750501</td>\n",
       "      <td>146.653285</td>\n",
       "      <td>92.852858</td>\n",
       "      <td>92.852858</td>\n",
       "      <td>98.127330</td>\n",
       "      <td>98.636222</td>\n",
       "      <td>0.919652</td>\n",
       "      <td>0.000000</td>\n",
       "      <td>174.982048</td>\n",
       "      <td>175.886351</td>\n",
       "    </tr>\n",
       "    <tr>\n",
       "      <th>9</th>\n",
       "      <td>21.090040</td>\n",
       "      <td>135.026833</td>\n",
       "      <td>135.929617</td>\n",
       "      <td>82.129190</td>\n",
       "      <td>82.129190</td>\n",
       "      <td>76.854718</td>\n",
       "      <td>76.345825</td>\n",
       "      <td>174.062396</td>\n",
       "      <td>174.982048</td>\n",
       "      <td>0.000000</td>\n",
       "      <td>0.904304</td>\n",
       "    </tr>\n",
       "    <tr>\n",
       "      <th>10</th>\n",
       "      <td>20.185737</td>\n",
       "      <td>135.931137</td>\n",
       "      <td>136.833920</td>\n",
       "      <td>83.033493</td>\n",
       "      <td>83.033493</td>\n",
       "      <td>77.759022</td>\n",
       "      <td>77.250129</td>\n",
       "      <td>174.966699</td>\n",
       "      <td>175.886351</td>\n",
       "      <td>0.904304</td>\n",
       "      <td>0.000000</td>\n",
       "    </tr>\n",
       "  </tbody>\n",
       "</table>\n",
       "</div>"
      ],
      "text/plain": [
       "             0           1           2           3           4          5  \\\n",
       "0     0.000000  156.116873  157.019657  103.219230  103.219230  97.944758   \n",
       "1   156.116873    0.000000    0.902784   52.897643   52.897643  58.172115   \n",
       "2   157.019657    0.902784    0.000000   53.800427   53.800427  59.074898   \n",
       "3   103.219230   52.897643   53.800427    0.000000    0.000000   5.274472   \n",
       "4   103.219230   52.897643   53.800427    0.000000    0.000000   5.274472   \n",
       "5    97.944758   58.172115   59.074898    5.274472    5.274472   0.000000   \n",
       "6    97.435866   58.681008   59.583791    5.783364    5.783364   0.508893   \n",
       "7   195.152436  144.830849  145.733633   91.933206   91.933206  97.207678   \n",
       "8   196.072088  145.750501  146.653285   92.852858   92.852858  98.127330   \n",
       "9    21.090040  135.026833  135.929617   82.129190   82.129190  76.854718   \n",
       "10   20.185737  135.931137  136.833920   83.033493   83.033493  77.759022   \n",
       "\n",
       "            6           7           8           9          10  \n",
       "0   97.435866  195.152436  196.072088   21.090040   20.185737  \n",
       "1   58.681008  144.830849  145.750501  135.026833  135.931137  \n",
       "2   59.583791  145.733633  146.653285  135.929617  136.833920  \n",
       "3    5.783364   91.933206   92.852858   82.129190   83.033493  \n",
       "4    5.783364   91.933206   92.852858   82.129190   83.033493  \n",
       "5    0.508893   97.207678   98.127330   76.854718   77.759022  \n",
       "6    0.000000   97.716570   98.636222   76.345825   77.250129  \n",
       "7   97.716570    0.000000    0.919652  174.062396  174.966699  \n",
       "8   98.636222    0.919652    0.000000  174.982048  175.886351  \n",
       "9   76.345825  174.062396  174.982048    0.000000    0.904304  \n",
       "10  77.250129  174.966699  175.886351    0.904304    0.000000  "
      ]
     },
     "execution_count": 141,
     "metadata": {},
     "output_type": "execute_result"
    }
   ],
   "source": [
    "import scipy\n",
    "\n",
    "pd.DataFrame(scipy.sparse.csgraph.dijkstra(nx.to_scipy_sparse_matrix(track_graph1, weight='distance'))[n_segments:, n_segments:])"
   ]
  },
  {
   "cell_type": "code",
   "execution_count": 158,
   "metadata": {},
   "outputs": [],
   "source": [
    "n_segments = len(track_graph.edges)\n",
    "track_graph1 = track_graph.copy()\n",
    "\n",
    "# insert virtual node\n",
    "for edge_number, (position_t, position_t_1, (node1, node2)) in enumerate(\n",
    "        zip(candidates_t, candidates_t_1, track_graph.edges)):\n",
    "    node_name_t, node_name_t_1 = f't_0_{edge_number}', f't_1_{edge_number}'\n",
    "    nx.add_path(track_graph1, [node1, node_name_t, node2])\n",
    "    nx.add_path(track_graph1, [node1, node_name_t_1, node2])\n",
    "    nx.add_path(track_graph1, [node_name_t, node_name_t_1])\n",
    "    track_graph1.nodes[node_name_t]['pos'] = tuple(position_t)\n",
    "    track_graph1.nodes[node_name_t_1]['pos'] = tuple(position_t_1)\n",
    "    \n",
    "# calculate distance\n",
    "for node1, node2 in track_graph1.edges:\n",
    "    x1, y1 = track_graph1.nodes[node1]['pos']\n",
    "    x2, y2 = track_graph1.nodes[node2]['pos']\n",
    "    track_graph1.edges[(node1, node2)]['distance'] = sqrt(\n",
    "        (x2 - x1)**2 + (y2 - y1)**2)"
   ]
  },
  {
   "cell_type": "code",
   "execution_count": 159,
   "metadata": {},
   "outputs": [
    {
     "name": "stdout",
     "output_type": "stream",
     "text": [
      "474 µs ± 64.2 µs per loop (mean ± std. dev. of 7 runs, 1000 loops each)\n"
     ]
    }
   ],
   "source": [
    "%timeit scipy.sparse.csgraph.dijkstra(nx.to_scipy_sparse_matrix(track_graph1, weight='distance'))"
   ]
  },
  {
   "cell_type": "code",
   "execution_count": 160,
   "metadata": {},
   "outputs": [
    {
     "name": "stdout",
     "output_type": "stream",
     "text": [
      "859 µs ± 67.1 µs per loop (mean ± std. dev. of 7 runs, 1000 loops each)\n"
     ]
    }
   ],
   "source": [
    "%timeit dict(nx.all_pairs_dijkstra_path_length(track_graph1, weight=\"distance\"))"
   ]
  },
  {
   "cell_type": "code",
   "execution_count": 161,
   "metadata": {},
   "outputs": [],
   "source": [
    "# calculate path distance\n",
    "path_distance = scipy.sparse.csgraph.dijkstra(\n",
    "    nx.to_scipy_sparse_matrix(track_graph1, weight='distance'))"
   ]
  },
  {
   "cell_type": "code",
   "execution_count": 166,
   "metadata": {},
   "outputs": [
    {
     "data": {
      "text/plain": [
       "['t_0_4', 't_0_4', 't_0_4', 't_0_4', 't_0_4']"
      ]
     },
     "execution_count": 166,
     "metadata": {},
     "output_type": "execute_result"
    }
   ],
   "source": []
  },
  {
   "cell_type": "code",
   "execution_count": 167,
   "metadata": {},
   "outputs": [
    {
     "data": {
      "text/plain": [
       "['t_1_4', 't_1_4', 't_1_4', 't_1_4', 't_1_4']"
      ]
     },
     "execution_count": 167,
     "metadata": {},
     "output_type": "execute_result"
    }
   ],
   "source": [
    "[f't_1_{edge_number}' for n in range(n_segments)]"
   ]
  },
  {
   "cell_type": "code",
   "execution_count": 172,
   "metadata": {},
   "outputs": [
    {
     "data": {
      "text/plain": [
       "6"
      ]
     },
     "execution_count": 172,
     "metadata": {},
     "output_type": "execute_result"
    }
   ],
   "source": [
    "len(track_graph.nodes)"
   ]
  },
  {
   "cell_type": "code",
   "execution_count": 181,
   "metadata": {},
   "outputs": [
    {
     "data": {
      "text/plain": [
       "['t_0_0', 't_0_1', 't_0_2', 't_0_3', 't_0_4']"
      ]
     },
     "execution_count": 181,
     "metadata": {},
     "output_type": "execute_result"
    }
   ],
   "source": [
    "list(track_graph1.nodes)[len(track_graph.nodes)::2]"
   ]
  },
  {
   "cell_type": "code",
   "execution_count": 180,
   "metadata": {},
   "outputs": [
    {
     "data": {
      "text/plain": [
       "['t_1_0', 't_1_1', 't_1_2', 't_1_3', 't_1_4']"
      ]
     },
     "execution_count": 180,
     "metadata": {},
     "output_type": "execute_result"
    }
   ],
   "source": [
    "list(track_graph1.nodes)[len(track_graph.nodes)+1::2]"
   ]
  },
  {
   "cell_type": "code",
   "execution_count": 185,
   "metadata": {},
   "outputs": [],
   "source": [
    "start_node_ind = np.arange(len(track_graph1.nodes))[len(track_graph.nodes)::2]\n",
    "end_node_ind = np.arange(len(track_graph1.nodes))[len(track_graph.nodes)+1::2]"
   ]
  },
  {
   "cell_type": "code",
   "execution_count": 187,
   "metadata": {},
   "outputs": [
    {
     "data": {
      "text/plain": [
       "array(['t_0_0', 't_0_1', 't_0_2', 't_0_3', 't_0_4'], dtype='<U21')"
      ]
     },
     "execution_count": 187,
     "metadata": {},
     "output_type": "execute_result"
    }
   ],
   "source": [
    "np.array(track_graph1.nodes)[start_node_ind]"
   ]
  },
  {
   "cell_type": "code",
   "execution_count": 188,
   "metadata": {},
   "outputs": [
    {
     "data": {
      "text/plain": [
       "array(['t_1_0', 't_1_1', 't_1_2', 't_1_3', 't_1_4'], dtype='<U21')"
      ]
     },
     "execution_count": 188,
     "metadata": {},
     "output_type": "execute_result"
    }
   ],
   "source": [
    "np.array(track_graph1.nodes)[end_node_ind]"
   ]
  },
  {
   "cell_type": "code",
   "execution_count": 189,
   "metadata": {},
   "outputs": [
    {
     "data": {
      "text/plain": [
       "array(['0', '1', '2', '3', '4', '5', 't_0_0', 't_1_0', 't_0_1', 't_1_1',\n",
       "       't_0_2', 't_1_2', 't_0_3', 't_1_3', 't_0_4', 't_1_4'], dtype='<U21')"
      ]
     },
     "execution_count": 189,
     "metadata": {},
     "output_type": "execute_result"
    }
   ],
   "source": [
    "np.array(track_graph1.nodes)"
   ]
  },
  {
   "cell_type": "code",
   "execution_count": 190,
   "metadata": {},
   "outputs": [],
   "source": [
    "n_original_nodes, n_total_nodes = (\n",
    "    len(track_graph.nodes), len(track_graph1.nodes))\n",
    "node_ind = np.arange(n_total_nodes)\n",
    "start_node_ind = node_ind[n_original_nodes::2]\n",
    "end_node_ind = node_ind[n_original_nodes + 1::2]"
   ]
  },
  {
   "cell_type": "code",
   "execution_count": 205,
   "metadata": {},
   "outputs": [
    {
     "data": {
      "text/plain": [
       "array([[103, 105, 107, 109, 111],\n",
       "       [135, 137, 139, 141, 143],\n",
       "       [167, 169, 171, 173, 175],\n",
       "       [199, 201, 203, 205, 207],\n",
       "       [231, 233, 235, 237, 239]])"
      ]
     },
     "execution_count": 205,
     "metadata": {},
     "output_type": "execute_result"
    }
   ],
   "source": [
    "test = np.arange(path_distance.shape[0]**2).reshape(path_distance.shape)\n",
    "\n",
    "test[start_node_ind][:,end_node_ind]"
   ]
  },
  {
   "cell_type": "code",
   "execution_count": 194,
   "metadata": {},
   "outputs": [
    {
     "data": {
      "text/plain": [
       "(16, 16)"
      ]
     },
     "execution_count": 194,
     "metadata": {},
     "output_type": "execute_result"
    }
   ],
   "source": [
    "path_distance.shape"
   ]
  },
  {
   "cell_type": "code",
   "execution_count": 197,
   "metadata": {},
   "outputs": [],
   "source": []
  },
  {
   "cell_type": "code",
   "execution_count": 199,
   "metadata": {},
   "outputs": [
    {
     "data": {
      "text/plain": [
       "array([ 7,  9, 11, 13, 15])"
      ]
     },
     "execution_count": 199,
     "metadata": {},
     "output_type": "execute_result"
    }
   ],
   "source": [
    "end_node_ind"
   ]
  },
  {
   "cell_type": "code",
   "execution_count": 207,
   "metadata": {},
   "outputs": [
    {
     "name": "stderr",
     "output_type": "stream",
     "text": [
      "WARNING:loren_frank_data_processing.core:Failed to load file: /Users/edeno/Documents/GitHub/loren_frank_data_processing/Raw-Data/Bond/bonDIO03.mat\n",
      "WARNING:loren_frank_data_processing.core:No DIO file found, using distance from well to segment trials\n",
      "WARNING:loren_frank_data_processing.core:Failed to load file: /Users/edeno/Documents/GitHub/loren_frank_data_processing/Raw-Data/Bond/bonDIO03.mat\n",
      "WARNING:loren_frank_data_processing.core:No DIO file found, inferring correct inbound/outbound from task rules\n",
      "WARNING:loren_frank_data_processing.core:Failed to load file: /Users/edeno/Documents/GitHub/loren_frank_data_processing/Raw-Data/Bond/bonDIO03.mat\n",
      "WARNING:loren_frank_data_processing.core:No DIO file found, using distance from well to segment trials\n",
      "WARNING:loren_frank_data_processing.core:Failed to load file: /Users/edeno/Documents/GitHub/loren_frank_data_processing/Raw-Data/Bond/bonDIO03.mat\n",
      "WARNING:loren_frank_data_processing.core:No DIO file found, inferring correct inbound/outbound from task rules\n",
      "WARNING:loren_frank_data_processing.core:Failed to load file: /Users/edeno/Documents/GitHub/loren_frank_data_processing/Raw-Data/Bond/bonDIO03.mat\n",
      "WARNING:loren_frank_data_processing.core:No DIO file found, using distance from well to segment trials\n",
      "WARNING:loren_frank_data_processing.core:Failed to load file: /Users/edeno/Documents/GitHub/loren_frank_data_processing/Raw-Data/Bond/bonDIO03.mat\n",
      "WARNING:loren_frank_data_processing.core:No DIO file found, inferring correct inbound/outbound from task rules\n",
      "WARNING:loren_frank_data_processing.core:Failed to load file: /Users/edeno/Documents/GitHub/loren_frank_data_processing/Raw-Data/Bond/bonDIO03.mat\n",
      "WARNING:loren_frank_data_processing.core:No DIO file found, using distance from well to segment trials\n",
      "WARNING:loren_frank_data_processing.core:Failed to load file: /Users/edeno/Documents/GitHub/loren_frank_data_processing/Raw-Data/Bond/bonDIO03.mat\n",
      "WARNING:loren_frank_data_processing.core:No DIO file found, inferring correct inbound/outbound from task rules\n",
      "WARNING:loren_frank_data_processing.core:Failed to load file: /Users/edeno/Documents/GitHub/loren_frank_data_processing/Raw-Data/Bond/bonDIO03.mat\n",
      "WARNING:loren_frank_data_processing.core:No DIO file found, using distance from well to segment trials\n",
      "WARNING:loren_frank_data_processing.core:Failed to load file: /Users/edeno/Documents/GitHub/loren_frank_data_processing/Raw-Data/Bond/bonDIO03.mat\n",
      "WARNING:loren_frank_data_processing.core:No DIO file found, inferring correct inbound/outbound from task rules\n",
      "WARNING:loren_frank_data_processing.core:Failed to load file: /Users/edeno/Documents/GitHub/loren_frank_data_processing/Raw-Data/Bond/bonDIO03.mat\n",
      "WARNING:loren_frank_data_processing.core:No DIO file found, using distance from well to segment trials\n",
      "WARNING:loren_frank_data_processing.core:Failed to load file: /Users/edeno/Documents/GitHub/loren_frank_data_processing/Raw-Data/Bond/bonDIO03.mat\n",
      "WARNING:loren_frank_data_processing.core:No DIO file found, inferring correct inbound/outbound from task rules\n",
      "WARNING:loren_frank_data_processing.core:Failed to load file: /Users/edeno/Documents/GitHub/loren_frank_data_processing/Raw-Data/Bond/bonDIO03.mat\n",
      "WARNING:loren_frank_data_processing.core:No DIO file found, using distance from well to segment trials\n",
      "WARNING:loren_frank_data_processing.core:Failed to load file: /Users/edeno/Documents/GitHub/loren_frank_data_processing/Raw-Data/Bond/bonDIO03.mat\n",
      "WARNING:loren_frank_data_processing.core:No DIO file found, inferring correct inbound/outbound from task rules\n",
      "WARNING:loren_frank_data_processing.core:Failed to load file: /Users/edeno/Documents/GitHub/loren_frank_data_processing/Raw-Data/Bond/bonDIO03.mat\n",
      "WARNING:loren_frank_data_processing.core:No DIO file found, using distance from well to segment trials\n",
      "WARNING:loren_frank_data_processing.core:Failed to load file: /Users/edeno/Documents/GitHub/loren_frank_data_processing/Raw-Data/Bond/bonDIO03.mat\n",
      "WARNING:loren_frank_data_processing.core:No DIO file found, inferring correct inbound/outbound from task rules\n"
     ]
    },
    {
     "name": "stdout",
     "output_type": "stream",
     "text": [
      "28.8 s ± 669 ms per loop (mean ± std. dev. of 7 runs, 1 loop each)\n"
     ]
    }
   ],
   "source": [
    "%timeit get_position_dataframe(epoch_key, animals)"
   ]
  },
  {
   "cell_type": "code",
   "execution_count": 208,
   "metadata": {},
   "outputs": [
    {
     "name": "stderr",
     "output_type": "stream",
     "text": [
      "WARNING:loren_frank_data_processing.core:Failed to load file: /Users/edeno/Documents/GitHub/loren_frank_data_processing/Raw-Data/Bond/bonDIO03.mat\n",
      "WARNING:loren_frank_data_processing.core:No DIO file found, using distance from well to segment trials\n",
      "WARNING:loren_frank_data_processing.core:Failed to load file: /Users/edeno/Documents/GitHub/loren_frank_data_processing/Raw-Data/Bond/bonDIO03.mat\n",
      "WARNING:loren_frank_data_processing.core:No DIO file found, inferring correct inbound/outbound from task rules\n"
     ]
    }
   ],
   "source": [
    "position_df = get_position_dataframe(epoch_key, animals)"
   ]
  },
  {
   "cell_type": "code",
   "execution_count": 209,
   "metadata": {},
   "outputs": [
    {
     "data": {
      "image/png": "[encoded data removed]",
      "text/plain": [
       "<Figure size 1440x720 with 1 Axes>"
      ]
     },
     "metadata": {
      "image/png": {
       "height": 574,
       "width": 1156
      },
      "needs_background": "light"
     },
     "output_type": "display_data"
    }
   ],
   "source": [
    "plt.figure(figsize=(20, 10))\n",
    "\n",
    "plt.scatter(\n",
    "    position_df.index / np.timedelta64(1, 's'),\n",
    "    position_df.linear_position, s=10)\n",
    "\n",
    "for p in node_linear_position.flat:\n",
    "    plt.axhline(p, color='black')"
   ]
  },
  {
   "cell_type": "code",
   "execution_count": 216,
   "metadata": {},
   "outputs": [
    {
     "name": "stdout",
     "output_type": "stream",
     "text": [
      "CPU times: user 18min 31s, sys: 45.3 s, total: 19min 17s\n",
      "Wall time: 22min 27s\n"
     ]
    }
   ],
   "source": [
    "%%time\n",
    "\n",
    "from loren_frank_data_processing.track_segment_classification import classify_track_segments\n",
    "\n",
    "position = position_info.loc[:, ['x_position', 'y_position']].values\n",
    "route_euclidean_distance_scaling = 1\n",
    "sensor_std_dev = 5\n",
    "diagonal_bias = 0.1\n",
    "\n",
    "track_segment_id = classify_track_segments(\n",
    "    track_graph, position,\n",
    "    route_euclidean_distance_scaling=route_euclidean_distance_scaling,\n",
    "    sensor_std_dev=sensor_std_dev,\n",
    "    diagonal_bias=diagonal_bias)"
   ]
  },
  {
   "cell_type": "code",
   "execution_count": 223,
   "metadata": {},
   "outputs": [],
   "source": [
    "from loren_frank_data_processing.position import _calulcate_linear_position, calculate_linear_distance\n",
    "\n",
    "ld = calculate_linear_distance(\n",
    "        track_graph, track_segment_id, center_well_id, position)\n",
    "lp = _calulcate_linear_position(ld,\n",
    "                                track_segment_id, track_graph, center_well_id, edge_order, edge_spacing)"
   ]
  },
  {
   "cell_type": "code",
   "execution_count": 224,
   "metadata": {},
   "outputs": [
    {
     "data": {
      "image/png": "[encoded data removed]",
      "text/plain": [
       "<Figure size 1440x720 with 1 Axes>"
      ]
     },
     "metadata": {
      "image/png": {
       "height": 574,
       "width": 1156
      },
      "needs_background": "light"
     },
     "output_type": "display_data"
    }
   ],
   "source": [
    "plt.figure(figsize=(20, 10))\n",
    "\n",
    "plt.scatter(\n",
    "    position_info.index / np.timedelta64(1, 's'),\n",
    "    lp, s=10)\n",
    "\n",
    "for p in node_linear_position.flat:\n",
    "    plt.axhline(p, color='black')"
   ]
  },
  {
   "cell_type": "code",
   "execution_count": null,
   "metadata": {},
   "outputs": [],
   "source": []
  }
 ],
 "metadata": {
  "kernelspec": {
   "display_name": "Python 3",
   "language": "python",
   "name": "python3"
  },
  "language_info": {
   "codemirror_mode": {
    "name": "ipython",
    "version": 3
   },
   "file_extension": ".py",
   "mimetype": "text/x-python",
   "name": "python",
   "nbconvert_exporter": "python",
   "pygments_lexer": "ipython3",
   "version": "3.8.1"
  }
 },
 "nbformat": 4,
 "nbformat_minor": 4
}
